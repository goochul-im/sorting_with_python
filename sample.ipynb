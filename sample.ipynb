{
 "cells": [
  {
   "metadata": {},
   "cell_type": "markdown",
   "source": [
    "# This is a sample Jupyter Notebook\n",
    "\n",
    "Below is an example of a code cell. \n",
    "Put your cursor into the cell and press Shift+Enter to execute it and select the next one, or click !here goes the icon of the corresponding button in the gutter! button.\n",
    "To debug a cell, press Alt+Shift+Enter, or click !here goes the icon of the corresponding button in the gutter! button.\n",
    "\n",
    "Press Double Shift to search everywhere for classes, files, tool windows, actions, and settings.\n",
    "\n",
    "To learn more about Jupyter Notebooks in PyCharm, see [help](https://www.jetbrains.com/help/pycharm/jupyter-notebook-support.html).\n",
    "For an overview of PyCharm, go to Help -> Learn IDE features or refer to [our documentation](https://www.jetbrains.com/help/pycharm/getting-started.html)."
   ],
   "id": "8a77807f92f26ee"
  },
  {
   "metadata": {
    "ExecuteTime": {
     "end_time": "2025-02-24T10:54:35.625387Z",
     "start_time": "2025-02-24T10:54:35.619531Z"
    }
   },
   "cell_type": "code",
   "source": [
    "from typing import Any\n",
    "\n",
    "print(\"Hello, PyCharm!\")"
   ],
   "id": "fbc121e30a2defb3",
   "outputs": [
    {
     "name": "stdout",
     "output_type": "stream",
     "text": [
      "Hello, PyCharm!\n"
     ]
    }
   ],
   "execution_count": 1
  },
  {
   "metadata": {
    "ExecuteTime": {
     "end_time": "2025-02-24T10:56:42.553012Z",
     "start_time": "2025-02-24T10:56:42.547487Z"
    }
   },
   "cell_type": "code",
   "source": [
    "a = \"This is how to use Jupyter Notebooks in PyCharm\"\n",
    "b = a.split(' ')\n",
    "print(b)"
   ],
   "id": "49b9bd86b8f54b96",
   "outputs": [
    {
     "name": "stdout",
     "output_type": "stream",
     "text": [
      "['This', 'is', 'how', 'to', 'use', 'Jupyter', 'Notebooks', 'in', 'PyCharm']\n"
     ]
    }
   ],
   "execution_count": 1
  },
  {
   "metadata": {
    "ExecuteTime": {
     "end_time": "2025-02-24T10:57:11.016006Z",
     "start_time": "2025-02-24T10:57:10.632966Z"
    }
   },
   "cell_type": "code",
   "source": [
    "c = b.join('-')\n",
    "print(c)"
   ],
   "id": "dea85cb7ae2d30d6",
   "outputs": [
    {
     "ename": "AttributeError",
     "evalue": "'list' object has no attribute 'join'",
     "output_type": "error",
     "traceback": [
      "\u001B[1;31m---------------------------------------------------------------------------\u001B[0m",
      "\u001B[1;31mAttributeError\u001B[0m                            Traceback (most recent call last)",
      "Cell \u001B[1;32mIn[2], line 1\u001B[0m\n\u001B[1;32m----> 1\u001B[0m c \u001B[38;5;241m=\u001B[39m b\u001B[38;5;241m.\u001B[39mjoin(\u001B[38;5;124m'\u001B[39m\u001B[38;5;124m-\u001B[39m\u001B[38;5;124m'\u001B[39m)\n\u001B[0;32m      2\u001B[0m \u001B[38;5;28mprint\u001B[39m(c)\n",
      "\u001B[1;31mAttributeError\u001B[0m: 'list' object has no attribute 'join'"
     ]
    }
   ],
   "execution_count": 2
  },
  {
   "metadata": {
    "ExecuteTime": {
     "end_time": "2025-02-24T10:57:16.844963Z",
     "start_time": "2025-02-24T10:57:16.841873Z"
    }
   },
   "cell_type": "code",
   "source": "d = '-'.join(b)",
   "id": "dede5be99f879be4",
   "outputs": [],
   "execution_count": 3
  },
  {
   "metadata": {
    "ExecuteTime": {
     "end_time": "2025-02-24T10:57:18.799009Z",
     "start_time": "2025-02-24T10:57:18.795449Z"
    }
   },
   "cell_type": "code",
   "source": "print(d)",
   "id": "7c5bfa9fa06a3bf1",
   "outputs": [
    {
     "name": "stdout",
     "output_type": "stream",
     "text": [
      "This-is-how-to-use-Jupyter-Notebooks-in-PyCharm\n"
     ]
    }
   ],
   "execution_count": 4
  },
  {
   "metadata": {
    "ExecuteTime": {
     "end_time": "2025-02-24T10:59:47.647703Z",
     "start_time": "2025-02-24T10:59:47.644195Z"
    }
   },
   "cell_type": "code",
   "source": [
    "data = \"   삼성전자   \"\n",
    "print(data.strip())"
   ],
   "id": "1bbdf2a6081d2bd8",
   "outputs": [
    {
     "name": "stdout",
     "output_type": "stream",
     "text": [
      "삼성전자\n"
     ]
    }
   ],
   "execution_count": 5
  },
  {
   "metadata": {
    "ExecuteTime": {
     "end_time": "2025-02-24T10:59:52.363962Z",
     "start_time": "2025-02-24T10:59:52.360477Z"
    }
   },
   "cell_type": "code",
   "source": "print(data.lstrip())",
   "id": "30ff86b07f149f7",
   "outputs": [
    {
     "name": "stdout",
     "output_type": "stream",
     "text": [
      "삼성전자   \n"
     ]
    }
   ],
   "execution_count": 6
  },
  {
   "metadata": {
    "ExecuteTime": {
     "end_time": "2025-02-24T10:59:56.171511Z",
     "start_time": "2025-02-24T10:59:56.167549Z"
    }
   },
   "cell_type": "code",
   "source": "print(data.rstrip())",
   "id": "e79ed2ebb42c01ec",
   "outputs": [
    {
     "name": "stdout",
     "output_type": "stream",
     "text": [
      "   삼성전자\n"
     ]
    }
   ],
   "execution_count": 7
  },
  {
   "metadata": {
    "ExecuteTime": {
     "end_time": "2025-02-24T11:03:32.608124Z",
     "start_time": "2025-02-24T11:03:32.604250Z"
    }
   },
   "cell_type": "code",
   "source": [
    "ticker = \"btc_krw\"\n",
    "print(ticker.upper())"
   ],
   "id": "1f48b380ef846a96",
   "outputs": [
    {
     "name": "stdout",
     "output_type": "stream",
     "text": [
      "BTC_KRW\n"
     ]
    }
   ],
   "execution_count": 8
  },
  {
   "metadata": {
    "ExecuteTime": {
     "end_time": "2025-02-24T11:03:49.348618Z",
     "start_time": "2025-02-24T11:03:49.345222Z"
    }
   },
   "cell_type": "code",
   "source": "print(ticker.lower())",
   "id": "3f800d42898260a2",
   "outputs": [
    {
     "name": "stdout",
     "output_type": "stream",
     "text": [
      "btc_krw\n"
     ]
    }
   ],
   "execution_count": 9
  },
  {
   "metadata": {
    "ExecuteTime": {
     "end_time": "2025-02-24T11:04:04.250059Z",
     "start_time": "2025-02-24T11:04:04.246395Z"
    }
   },
   "cell_type": "code",
   "source": [
    "a = \"hello\"\n",
    "print(a.capitalize())"
   ],
   "id": "65dd4888830c5408",
   "outputs": [
    {
     "name": "stdout",
     "output_type": "stream",
     "text": [
      "Hello\n"
     ]
    }
   ],
   "execution_count": 10
  },
  {
   "metadata": {
    "ExecuteTime": {
     "end_time": "2025-02-24T11:04:18.346288Z",
     "start_time": "2025-02-24T11:04:18.342774Z"
    }
   },
   "cell_type": "code",
   "source": "file_name = \"보고서.xlsx\"",
   "id": "40fa58c7f8904619",
   "outputs": [],
   "execution_count": 11
  },
  {
   "metadata": {
    "ExecuteTime": {
     "end_time": "2025-02-24T11:04:20.684166Z",
     "start_time": "2025-02-24T11:04:20.681254Z"
    }
   },
   "cell_type": "code",
   "source": "print(file_name.endswith('xlsx'))",
   "id": "28594a5d692a6536",
   "outputs": [
    {
     "name": "stdout",
     "output_type": "stream",
     "text": [
      "True\n"
     ]
    }
   ],
   "execution_count": 12
  },
  {
   "metadata": {
    "ExecuteTime": {
     "end_time": "2025-02-24T11:04:26.534237Z",
     "start_time": "2025-02-24T11:04:26.531190Z"
    }
   },
   "cell_type": "code",
   "source": "print(file_name.endswith('xls'))",
   "id": "bbd4a7169ac33533",
   "outputs": [
    {
     "name": "stdout",
     "output_type": "stream",
     "text": [
      "False\n"
     ]
    }
   ],
   "execution_count": 13
  },
  {
   "metadata": {
    "ExecuteTime": {
     "end_time": "2025-02-24T11:04:48.093583Z",
     "start_time": "2025-02-24T11:04:48.089918Z"
    }
   },
   "cell_type": "code",
   "source": [
    "file_name = \"2020_보고서.xlsx\"\n",
    "print(file_name.startswith('2020'))"
   ],
   "id": "6b80fb62493b44ba",
   "outputs": [
    {
     "name": "stdout",
     "output_type": "stream",
     "text": [
      "True\n"
     ]
    }
   ],
   "execution_count": 14
  },
  {
   "metadata": {
    "ExecuteTime": {
     "end_time": "2025-02-24T11:05:11.136857Z",
     "start_time": "2025-02-24T11:05:11.132797Z"
    }
   },
   "cell_type": "code",
   "source": "print(file_name.startswith('2021'))",
   "id": "dbab927e7507ab6f",
   "outputs": [
    {
     "name": "stdout",
     "output_type": "stream",
     "text": [
      "False\n"
     ]
    }
   ],
   "execution_count": 15
  },
  {
   "metadata": {
    "ExecuteTime": {
     "end_time": "2025-02-24T11:05:45.434506Z",
     "start_time": "2025-02-24T11:05:45.430946Z"
    }
   },
   "cell_type": "code",
   "source": [
    "movie_rank = [\"닥터 스트레인지\", \"스플릿\", \"럭키\"]\n",
    "movie_rank.append(\"배트맨\")\n",
    "print(movie_rank)"
   ],
   "id": "52146a18e32f8bf6",
   "outputs": [
    {
     "name": "stdout",
     "output_type": "stream",
     "text": [
      "['닥터 스트레인지', '스플릿', '럭키', '배트맨']\n"
     ]
    }
   ],
   "execution_count": 16
  },
  {
   "metadata": {
    "ExecuteTime": {
     "end_time": "2025-02-24T11:06:00.562993Z",
     "start_time": "2025-02-24T11:06:00.559154Z"
    }
   },
   "cell_type": "code",
   "source": [
    "movie_rank.insert(1, \"슈퍼맨\")\n",
    "print(movie_rank)"
   ],
   "id": "7393585a06bffe6b",
   "outputs": [
    {
     "name": "stdout",
     "output_type": "stream",
     "text": [
      "['닥터 스트레인지', '슈퍼맨', '스플릿', '럭키', '배트맨']\n"
     ]
    }
   ],
   "execution_count": 17
  },
  {
   "metadata": {
    "ExecuteTime": {
     "end_time": "2025-02-24T11:07:14.873010Z",
     "start_time": "2025-02-24T11:07:14.869193Z"
    }
   },
   "cell_type": "code",
   "source": [
    "del movie_rank[3]\n",
    "print(movie_rank)"
   ],
   "id": "cad23bcb0824f76",
   "outputs": [
    {
     "name": "stdout",
     "output_type": "stream",
     "text": [
      "['닥터 스트레인지', '슈퍼맨', '스플릿', '배트맨']\n"
     ]
    }
   ],
   "execution_count": 18
  },
  {
   "metadata": {
    "ExecuteTime": {
     "end_time": "2025-02-24T11:10:58.517547Z",
     "start_time": "2025-02-24T11:10:58.514699Z"
    }
   },
   "cell_type": "code",
   "source": [
    "lang1 = [\"C\", \"C++\", \"JAVA\"]\n",
    "lang2 = [\"Python\", \"Go\", \"C#\"]\n"
   ],
   "id": "25d1d6cd6c79bec2",
   "outputs": [],
   "execution_count": 19
  },
  {
   "metadata": {
    "ExecuteTime": {
     "end_time": "2025-02-24T11:11:03.103777Z",
     "start_time": "2025-02-24T11:11:03.100353Z"
    }
   },
   "cell_type": "code",
   "source": "langs = lang1 + lang2",
   "id": "b7b23bd8dd5452e9",
   "outputs": [],
   "execution_count": 20
  },
  {
   "metadata": {
    "ExecuteTime": {
     "end_time": "2025-02-24T11:11:05.086555Z",
     "start_time": "2025-02-24T11:11:05.083475Z"
    }
   },
   "cell_type": "code",
   "source": "print(langs)",
   "id": "a501d5b8b09e878d",
   "outputs": [
    {
     "name": "stdout",
     "output_type": "stream",
     "text": [
      "['C', 'C++', 'JAVA', 'Python', 'Go', 'C#']\n"
     ]
    }
   ],
   "execution_count": 21
  },
  {
   "metadata": {
    "ExecuteTime": {
     "end_time": "2025-02-24T11:11:31.616633Z",
     "start_time": "2025-02-24T11:11:31.612858Z"
    }
   },
   "cell_type": "code",
   "source": [
    "nums = [1, 2, 3, 4, 5, 6, 7]\n",
    "print(f\"max: {max(nums)}, min: {min(nums)}\")"
   ],
   "id": "359643ae03a6f685",
   "outputs": [
    {
     "name": "stdout",
     "output_type": "stream",
     "text": [
      "max: 7, min: 1\n"
     ]
    }
   ],
   "execution_count": 22
  },
  {
   "metadata": {
    "ExecuteTime": {
     "end_time": "2025-02-24T11:11:44.263322Z",
     "start_time": "2025-02-24T11:11:44.259933Z"
    }
   },
   "cell_type": "code",
   "source": "print(sum(nums))",
   "id": "b171f1910d2fd1da",
   "outputs": [
    {
     "name": "stdout",
     "output_type": "stream",
     "text": [
      "28\n"
     ]
    }
   ],
   "execution_count": 23
  },
  {
   "metadata": {
    "ExecuteTime": {
     "end_time": "2025-02-24T11:11:55.039172Z",
     "start_time": "2025-02-24T11:11:55.035571Z"
    }
   },
   "cell_type": "code",
   "source": [
    "cook = [\"피자\", \"김밥\", \"만두\", \"양념치킨\", \"족발\", \"피자\", \"김치만두\", \"쫄면\", \"소시지\", \"라면\", \"팥빙수\", \"김치전\"]\n",
    "print(len(cook))"
   ],
   "id": "ec5fed44c19cd539",
   "outputs": [
    {
     "name": "stdout",
     "output_type": "stream",
     "text": [
      "12\n"
     ]
    }
   ],
   "execution_count": 24
  },
  {
   "metadata": {
    "ExecuteTime": {
     "end_time": "2025-02-24T11:14:46.211230Z",
     "start_time": "2025-02-24T11:14:46.207407Z"
    }
   },
   "cell_type": "code",
   "source": [
    "price = ['20180728', 100, 130, 140, 150, 160, 170]\n",
    "print(price[1:])"
   ],
   "id": "1b97642215bcb251",
   "outputs": [
    {
     "name": "stdout",
     "output_type": "stream",
     "text": [
      "[100, 130, 140, 150, 160, 170]\n"
     ]
    }
   ],
   "execution_count": 25
  },
  {
   "metadata": {
    "ExecuteTime": {
     "end_time": "2025-02-24T11:14:56.306771Z",
     "start_time": "2025-02-24T11:14:56.301723Z"
    }
   },
   "cell_type": "code",
   "source": "print(price[:1])",
   "id": "8a5fa62d138b20bc",
   "outputs": [
    {
     "name": "stdout",
     "output_type": "stream",
     "text": [
      "['20180728']\n"
     ]
    }
   ],
   "execution_count": 26
  },
  {
   "metadata": {
    "ExecuteTime": {
     "end_time": "2025-02-24T11:15:11.043435Z",
     "start_time": "2025-02-24T11:15:11.039911Z"
    }
   },
   "cell_type": "code",
   "source": "print(price[::2])",
   "id": "4b3008f6ab1dd0fc",
   "outputs": [
    {
     "name": "stdout",
     "output_type": "stream",
     "text": [
      "['20180728', 130, 150, 170]\n"
     ]
    }
   ],
   "execution_count": 27
  },
  {
   "metadata": {
    "ExecuteTime": {
     "end_time": "2025-02-24T11:15:20.815928Z",
     "start_time": "2025-02-24T11:15:20.812312Z"
    }
   },
   "cell_type": "code",
   "source": "print(price[1::2])",
   "id": "1c05466eaf91b229",
   "outputs": [
    {
     "name": "stdout",
     "output_type": "stream",
     "text": [
      "[100, 140, 160]\n"
     ]
    }
   ],
   "execution_count": 28
  },
  {
   "metadata": {
    "ExecuteTime": {
     "end_time": "2025-02-24T11:22:16.464108Z",
     "start_time": "2025-02-24T11:22:16.460746Z"
    }
   },
   "cell_type": "code",
   "source": [
    "nums = [1, 2, 3, 4, 5, 6, 7, 8, 9, 10]\n",
    "print(nums[1::2])"
   ],
   "id": "d32509d361a8e426",
   "outputs": [
    {
     "name": "stdout",
     "output_type": "stream",
     "text": [
      "[2, 4, 6, 8, 10]\n"
     ]
    }
   ],
   "execution_count": 29
  },
  {
   "metadata": {
    "ExecuteTime": {
     "end_time": "2025-02-24T11:22:21.171574Z",
     "start_time": "2025-02-24T11:22:21.168430Z"
    }
   },
   "cell_type": "code",
   "source": "print(nums[::2])",
   "id": "ebc120c1ba68175e",
   "outputs": [
    {
     "name": "stdout",
     "output_type": "stream",
     "text": [
      "[1, 3, 5, 7, 9]\n"
     ]
    }
   ],
   "execution_count": 30
  },
  {
   "metadata": {
    "ExecuteTime": {
     "end_time": "2025-02-24T11:22:38.671244Z",
     "start_time": "2025-02-24T11:22:38.667922Z"
    }
   },
   "cell_type": "code",
   "source": "print(nums[::-1])",
   "id": "75ec1787b2fe9d68",
   "outputs": [
    {
     "name": "stdout",
     "output_type": "stream",
     "text": [
      "[10, 9, 8, 7, 6, 5, 4, 3, 2, 1]\n"
     ]
    }
   ],
   "execution_count": 31
  },
  {
   "metadata": {
    "ExecuteTime": {
     "end_time": "2025-02-24T11:24:07.860007Z",
     "start_time": "2025-02-24T11:24:07.856725Z"
    }
   },
   "cell_type": "code",
   "source": [
    "interest = ['삼성전자', 'LG전자', 'Naver']\n",
    "print(interest[0], interest[2])"
   ],
   "id": "df34761ed6c9936c",
   "outputs": [
    {
     "name": "stdout",
     "output_type": "stream",
     "text": [
      "삼성전자 Naver\n"
     ]
    }
   ],
   "execution_count": 32
  },
  {
   "metadata": {
    "ExecuteTime": {
     "end_time": "2025-02-24T11:25:26.843549Z",
     "start_time": "2025-02-24T11:25:26.839584Z"
    }
   },
   "cell_type": "code",
   "source": "print(' '.join(interest))",
   "id": "9d4b2bbca3c84d8e",
   "outputs": [
    {
     "name": "stdout",
     "output_type": "stream",
     "text": [
      "삼성전자 LG전자 Naver\n"
     ]
    }
   ],
   "execution_count": 33
  },
  {
   "metadata": {
    "ExecuteTime": {
     "end_time": "2025-02-24T11:25:52.899373Z",
     "start_time": "2025-02-24T11:25:52.895775Z"
    }
   },
   "cell_type": "code",
   "source": [
    "data = [2, 4, 3, 1, 5, 10, 9]\n",
    "print(data.sort())"
   ],
   "id": "c4322bc10615c87b",
   "outputs": [
    {
     "name": "stdout",
     "output_type": "stream",
     "text": [
      "None\n"
     ]
    }
   ],
   "execution_count": 34
  },
  {
   "metadata": {
    "ExecuteTime": {
     "end_time": "2025-02-24T11:25:59.156604Z",
     "start_time": "2025-02-24T11:25:59.152261Z"
    }
   },
   "cell_type": "code",
   "source": [
    "data.sort()\n",
    "print(data)"
   ],
   "id": "6f545e3ef15d7777",
   "outputs": [
    {
     "name": "stdout",
     "output_type": "stream",
     "text": [
      "[1, 2, 3, 4, 5, 9, 10]\n"
     ]
    }
   ],
   "execution_count": 35
  },
  {
   "metadata": {
    "ExecuteTime": {
     "end_time": "2025-02-24T11:28:57.634313Z",
     "start_time": "2025-02-24T11:28:57.631158Z"
    }
   },
   "cell_type": "code",
   "source": [
    "my_variable = ()\n",
    "print(type(my_variable))"
   ],
   "id": "b6c01e27148a9127",
   "outputs": [
    {
     "name": "stdout",
     "output_type": "stream",
     "text": [
      "<class 'tuple'>\n"
     ]
    }
   ],
   "execution_count": 36
  },
  {
   "metadata": {
    "ExecuteTime": {
     "end_time": "2025-02-24T11:29:16.988241Z",
     "start_time": "2025-02-24T11:29:16.984654Z"
    }
   },
   "cell_type": "code",
   "source": [
    "movie_rank = (\"닥터 스트레인지\", \"스플릿\", \"럭키\")\n",
    "print(movie_rank)"
   ],
   "id": "5a28cfabecd0a2c9",
   "outputs": [
    {
     "name": "stdout",
     "output_type": "stream",
     "text": [
      "('닥터 스트레인지', '스플릿', '럭키')\n"
     ]
    }
   ],
   "execution_count": 37
  },
  {
   "metadata": {
    "ExecuteTime": {
     "end_time": "2025-02-24T11:29:39.784063Z",
     "start_time": "2025-02-24T11:29:39.780249Z"
    }
   },
   "cell_type": "code",
   "source": [
    "a = (1,)\n",
    "print(tuple(a))"
   ],
   "id": "bc1b27af0d71bb0f",
   "outputs": [
    {
     "name": "stdout",
     "output_type": "stream",
     "text": [
      "(1,)\n"
     ]
    }
   ],
   "execution_count": 38
  },
  {
   "metadata": {
    "ExecuteTime": {
     "end_time": "2025-02-24T11:29:49.159202Z",
     "start_time": "2025-02-24T11:29:49.155693Z"
    }
   },
   "cell_type": "code",
   "source": "print(type(a))",
   "id": "754f881be0510b0c",
   "outputs": [
    {
     "name": "stdout",
     "output_type": "stream",
     "text": [
      "<class 'tuple'>\n"
     ]
    }
   ],
   "execution_count": 39
  },
  {
   "metadata": {
    "ExecuteTime": {
     "end_time": "2025-02-24T11:34:44.004387Z",
     "start_time": "2025-02-24T11:34:44.000751Z"
    }
   },
   "cell_type": "code",
   "source": [
    "t = 1, 2, 3, 4\n",
    "print(type(t))"
   ],
   "id": "f2298d386c21e3a2",
   "outputs": [
    {
     "name": "stdout",
     "output_type": "stream",
     "text": [
      "<class 'tuple'>\n"
     ]
    }
   ],
   "execution_count": 40
  },
  {
   "metadata": {
    "ExecuteTime": {
     "end_time": "2025-02-24T11:34:59.599912Z",
     "start_time": "2025-02-24T11:34:59.596668Z"
    }
   },
   "cell_type": "code",
   "source": [
    "interest = ('삼성전자', 'LG전자', 'SK Hynix')\n",
    "data = list(interest)"
   ],
   "id": "b5c55f54483d8940",
   "outputs": [],
   "execution_count": 41
  },
  {
   "metadata": {
    "ExecuteTime": {
     "end_time": "2025-02-24T11:35:04.609555Z",
     "start_time": "2025-02-24T11:35:04.606212Z"
    }
   },
   "cell_type": "code",
   "source": "print(type(data))",
   "id": "dbe81c3ef604c3a",
   "outputs": [
    {
     "name": "stdout",
     "output_type": "stream",
     "text": [
      "<class 'list'>\n"
     ]
    }
   ],
   "execution_count": 42
  },
  {
   "metadata": {
    "ExecuteTime": {
     "end_time": "2025-02-24T11:39:27.463768Z",
     "start_time": "2025-02-24T11:39:27.460362Z"
    }
   },
   "cell_type": "code",
   "source": [
    "interest = ['삼성전자', 'LG전자', 'SK Hynix']\n",
    "data = tuple(interest)\n",
    "print(data)"
   ],
   "id": "3b0188d8e0ba3248",
   "outputs": [
    {
     "name": "stdout",
     "output_type": "stream",
     "text": [
      "('삼성전자', 'LG전자', 'SK Hynix')\n"
     ]
    }
   ],
   "execution_count": 43
  },
  {
   "metadata": {
    "ExecuteTime": {
     "end_time": "2025-02-24T11:39:41.814659Z",
     "start_time": "2025-02-24T11:39:41.811089Z"
    }
   },
   "cell_type": "code",
   "source": [
    "temp = ('apple', 'banana', 'cake')\n",
    "a, b, c = temp\n",
    "print(a, b, c)"
   ],
   "id": "514e1138397e3735",
   "outputs": [
    {
     "name": "stdout",
     "output_type": "stream",
     "text": [
      "apple banana cake\n"
     ]
    }
   ],
   "execution_count": 44
  },
  {
   "metadata": {
    "ExecuteTime": {
     "end_time": "2025-02-24T11:40:05.389721Z",
     "start_time": "2025-02-24T11:40:05.386711Z"
    }
   },
   "cell_type": "code",
   "source": [
    "data = tuple(range(2, 100, 2))\n",
    "print(data)"
   ],
   "id": "c88add2e0255a46c",
   "outputs": [
    {
     "name": "stdout",
     "output_type": "stream",
     "text": [
      "(2, 4, 6, 8, 10, 12, 14, 16, 18, 20, 22, 24, 26, 28, 30, 32, 34, 36, 38, 40, 42, 44, 46, 48, 50, 52, 54, 56, 58, 60, 62, 64, 66, 68, 70, 72, 74, 76, 78, 80, 82, 84, 86, 88, 90, 92, 94, 96, 98)\n"
     ]
    }
   ],
   "execution_count": 45
  },
  {
   "metadata": {
    "ExecuteTime": {
     "end_time": "2025-02-24T11:41:23.116513Z",
     "start_time": "2025-02-24T11:41:23.113208Z"
    }
   },
   "cell_type": "code",
   "source": [
    "a, b, *c = (0, 1, 2, 3, 4, 5)\n",
    "print(c)"
   ],
   "id": "a435f5e9379aef40",
   "outputs": [
    {
     "name": "stdout",
     "output_type": "stream",
     "text": [
      "[2, 3, 4, 5]\n"
     ]
    }
   ],
   "execution_count": 46
  },
  {
   "metadata": {
    "ExecuteTime": {
     "end_time": "2025-02-24T11:41:58.610818Z",
     "start_time": "2025-02-24T11:41:58.606841Z"
    }
   },
   "cell_type": "code",
   "source": [
    "scores = [8.8, 8.9, 8.7, 9.2, 9.3, 9.7, 9.9, 9.5, 7.8, 9.4]\n",
    "*valid_score, _, _ = scores\n",
    "print(valid_score)"
   ],
   "id": "b24010ed74629d08",
   "outputs": [
    {
     "name": "stdout",
     "output_type": "stream",
     "text": [
      "[8.8, 8.9, 8.7, 9.2, 9.3, 9.7, 9.9, 9.5]\n"
     ]
    }
   ],
   "execution_count": 47
  },
  {
   "metadata": {
    "ExecuteTime": {
     "end_time": "2025-02-24T11:43:22.274183Z",
     "start_time": "2025-02-24T11:43:22.270439Z"
    }
   },
   "cell_type": "code",
   "source": [
    "temp = {}\n",
    "print(type(temp))"
   ],
   "id": "2cc11989e23ac58a",
   "outputs": [
    {
     "name": "stdout",
     "output_type": "stream",
     "text": [
      "<class 'dict'>\n"
     ]
    }
   ],
   "execution_count": 48
  },
  {
   "metadata": {
    "ExecuteTime": {
     "end_time": "2025-02-24T11:43:51.843877Z",
     "start_time": "2025-02-24T11:43:51.839615Z"
    }
   },
   "cell_type": "code",
   "source": [
    "d = {'메로나': 1000, '폴라포': 1200, '빵빠레': 1800}\n",
    "print(d)"
   ],
   "id": "58c417ef25a6496d",
   "outputs": [
    {
     "name": "stdout",
     "output_type": "stream",
     "text": [
      "{'메로나': 1000, '폴라포': 1200, '빵빠레': 1800}\n"
     ]
    }
   ],
   "execution_count": 49
  },
  {
   "metadata": {
    "ExecuteTime": {
     "end_time": "2025-02-24T11:44:06.398452Z",
     "start_time": "2025-02-24T11:44:06.394899Z"
    }
   },
   "cell_type": "code",
   "source": [
    "d['죠스바'] = 1200\n",
    "d['월드콘'] = 1500\n",
    "print(d)"
   ],
   "id": "866db0d1a87b7b9b",
   "outputs": [
    {
     "name": "stdout",
     "output_type": "stream",
     "text": [
      "{'메로나': 1000, '폴라포': 1200, '빵빠레': 1800, '죠스바': 1200, '월드콘': 1500}\n"
     ]
    }
   ],
   "execution_count": 50
  },
  {
   "metadata": {
    "ExecuteTime": {
     "end_time": "2025-02-24T11:48:13.286860Z",
     "start_time": "2025-02-24T11:48:13.283416Z"
    }
   },
   "cell_type": "code",
   "source": [
    "d['메로나'] = 1500\n",
    "print(d['메로나'])"
   ],
   "id": "cb5a561fd7e7814e",
   "outputs": [
    {
     "name": "stdout",
     "output_type": "stream",
     "text": [
      "1500\n"
     ]
    }
   ],
   "execution_count": 51
  },
  {
   "metadata": {
    "ExecuteTime": {
     "end_time": "2025-02-24T11:48:19.057337Z",
     "start_time": "2025-02-24T11:48:19.054421Z"
    }
   },
   "cell_type": "code",
   "source": "print(d)",
   "id": "3139e63b012aab4",
   "outputs": [
    {
     "name": "stdout",
     "output_type": "stream",
     "text": [
      "{'메로나': 1500, '폴라포': 1200, '빵빠레': 1800, '죠스바': 1200, '월드콘': 1500}\n"
     ]
    }
   ],
   "execution_count": 52
  },
  {
   "metadata": {
    "ExecuteTime": {
     "end_time": "2025-02-24T12:14:38.108408Z",
     "start_time": "2025-02-24T12:14:38.103882Z"
    }
   },
   "cell_type": "code",
   "source": [
    "inventory = {\"메로나\": [300, 20],\n",
    "             \"비비빅\": [400, 3],\n",
    "             \"죠스바\": [250, 100]}\n",
    "inventory['월드콘'] = [500, 7]\n",
    "print(inventory)"
   ],
   "id": "ddf3e6f5d51a8818",
   "outputs": [
    {
     "name": "stdout",
     "output_type": "stream",
     "text": [
      "{'메로나': [300, 20], '비비빅': [400, 3], '죠스바': [250, 100], '월드콘': [500, 7]}\n"
     ]
    }
   ],
   "execution_count": 53
  },
  {
   "metadata": {
    "ExecuteTime": {
     "end_time": "2025-02-24T12:14:54.030151Z",
     "start_time": "2025-02-24T12:14:54.026312Z"
    }
   },
   "cell_type": "code",
   "source": [
    "icecream = {'탱크보이': 1200, '폴라포': 1200, '빵빠레': 1800, '월드콘': 1500, '메로나': 1000}\n",
    "print(list(icecream.keys()))"
   ],
   "id": "92f05bc9ffdf55d",
   "outputs": [
    {
     "name": "stdout",
     "output_type": "stream",
     "text": [
      "['탱크보이', '폴라포', '빵빠레', '월드콘', '메로나']\n"
     ]
    }
   ],
   "execution_count": 54
  },
  {
   "metadata": {
    "ExecuteTime": {
     "end_time": "2025-02-24T12:15:05.797589Z",
     "start_time": "2025-02-24T12:15:05.792626Z"
    }
   },
   "cell_type": "code",
   "source": "print(list(icecream.values()))",
   "id": "b9f4050dda2f7e56",
   "outputs": [
    {
     "name": "stdout",
     "output_type": "stream",
     "text": [
      "[1200, 1200, 1800, 1500, 1000]\n"
     ]
    }
   ],
   "execution_count": 55
  },
  {
   "metadata": {
    "ExecuteTime": {
     "end_time": "2025-02-24T12:15:14.714782Z",
     "start_time": "2025-02-24T12:15:14.711647Z"
    }
   },
   "cell_type": "code",
   "source": "print(sum(icecream.values()))",
   "id": "43a7e3e8cc547642",
   "outputs": [
    {
     "name": "stdout",
     "output_type": "stream",
     "text": [
      "6700\n"
     ]
    }
   ],
   "execution_count": 56
  },
  {
   "metadata": {
    "ExecuteTime": {
     "end_time": "2025-02-24T12:15:35.624315Z",
     "start_time": "2025-02-24T12:15:35.620963Z"
    }
   },
   "cell_type": "code",
   "source": [
    "new_product = {'팥빙수': 2700, '아맛나': 1000}\n",
    "icecream.update(new_product)"
   ],
   "id": "255e0cc2950936eb",
   "outputs": [],
   "execution_count": 57
  },
  {
   "metadata": {
    "ExecuteTime": {
     "end_time": "2025-02-24T12:15:38.760957Z",
     "start_time": "2025-02-24T12:15:38.757482Z"
    }
   },
   "cell_type": "code",
   "source": "print(icecream)",
   "id": "fcd4d4515706ea26",
   "outputs": [
    {
     "name": "stdout",
     "output_type": "stream",
     "text": [
      "{'탱크보이': 1200, '폴라포': 1200, '빵빠레': 1800, '월드콘': 1500, '메로나': 1000, '팥빙수': 2700, '아맛나': 1000}\n"
     ]
    }
   ],
   "execution_count": 58
  },
  {
   "metadata": {
    "ExecuteTime": {
     "end_time": "2025-02-24T12:17:53.818114Z",
     "start_time": "2025-02-24T12:17:53.814074Z"
    }
   },
   "cell_type": "code",
   "source": [
    "keys = ('apple', 'pear', 'peach')\n",
    "vals = (300, 250, 400)\n",
    "result = dict(zip(keys, vals))\n",
    "print(result)"
   ],
   "id": "2f168abec646686",
   "outputs": [
    {
     "name": "stdout",
     "output_type": "stream",
     "text": [
      "{'apple': 300, 'pear': 250, 'peach': 400}\n"
     ]
    }
   ],
   "execution_count": 59
  },
  {
   "metadata": {
    "ExecuteTime": {
     "end_time": "2025-02-24T12:25:11.559498Z",
     "start_time": "2025-02-24T12:25:11.555559Z"
    }
   },
   "cell_type": "code",
   "source": [
    "def sum_all(*args):\n",
    "    return sum(args)"
   ],
   "id": "5ddbc51ffa3b8e64",
   "outputs": [],
   "execution_count": 60
  },
  {
   "metadata": {
    "ExecuteTime": {
     "end_time": "2025-02-24T12:25:19.671648Z",
     "start_time": "2025-02-24T12:25:19.668436Z"
    }
   },
   "cell_type": "code",
   "source": "print(sum_all(1, 2, 3, 4, 5))",
   "id": "57b3ecbfc6417dc5",
   "outputs": [
    {
     "name": "stdout",
     "output_type": "stream",
     "text": [
      "15\n"
     ]
    }
   ],
   "execution_count": 61
  },
  {
   "metadata": {
    "ExecuteTime": {
     "end_time": "2025-02-24T12:25:30.690963Z",
     "start_time": "2025-02-24T12:25:30.686765Z"
    }
   },
   "cell_type": "code",
   "source": "print(sum_all(4, 10, 23, 1))",
   "id": "7831eeed8bc0179",
   "outputs": [
    {
     "name": "stdout",
     "output_type": "stream",
     "text": [
      "38\n"
     ]
    }
   ],
   "execution_count": 62
  },
  {
   "metadata": {
    "ExecuteTime": {
     "end_time": "2025-03-15T10:37:39.862437Z",
     "start_time": "2025-03-15T10:37:39.855988Z"
    }
   },
   "cell_type": "code",
   "source": [
    "list06 = ('ABC')\n",
    "print(list06)"
   ],
   "id": "7b040952c7138760",
   "outputs": [
    {
     "name": "stdout",
     "output_type": "stream",
     "text": [
      "ABC\n"
     ]
    }
   ],
   "execution_count": 1
  },
  {
   "metadata": {
    "ExecuteTime": {
     "end_time": "2025-03-15T10:39:50.277322Z",
     "start_time": "2025-03-15T10:39:50.273626Z"
    }
   },
   "cell_type": "code",
   "source": [
    "list1 = (1, 2, 3)\n",
    "a, b, c = list1\n",
    "print(f\"{a},{b},{c}\")"
   ],
   "id": "e2e6efde18ae243f",
   "outputs": [
    {
     "name": "stdout",
     "output_type": "stream",
     "text": [
      "1,2,3\n"
     ]
    }
   ],
   "execution_count": 2
  },
  {
   "metadata": {
    "ExecuteTime": {
     "end_time": "2025-03-15T10:41:24.003079Z",
     "start_time": "2025-03-15T10:41:23.995162Z"
    }
   },
   "cell_type": "code",
   "source": [
    "n = 5\n",
    "id(n)"
   ],
   "id": "42f957e5c6c12027",
   "outputs": [
    {
     "data": {
      "text/plain": [
       "140717823793720"
      ]
     },
     "execution_count": 3,
     "metadata": {},
     "output_type": "execute_result"
    }
   ],
   "execution_count": 3
  },
  {
   "metadata": {
    "ExecuteTime": {
     "end_time": "2025-03-15T10:41:31.376770Z",
     "start_time": "2025-03-15T10:41:31.369958Z"
    }
   },
   "cell_type": "code",
   "source": [
    "n = 'ABC'\n",
    "id(n)"
   ],
   "id": "4db59c90f1d63421",
   "outputs": [
    {
     "data": {
      "text/plain": [
       "140717823331168"
      ]
     },
     "execution_count": 4,
     "metadata": {},
     "output_type": "execute_result"
    }
   ],
   "execution_count": 4
  },
  {
   "metadata": {
    "ExecuteTime": {
     "end_time": "2025-03-15T10:45:46.380670Z",
     "start_time": "2025-03-15T10:45:46.377416Z"
    }
   },
   "cell_type": "code",
   "source": "a = b = 1",
   "id": "e48e931cb1c2c2ef",
   "outputs": [],
   "execution_count": 5
  },
  {
   "metadata": {
    "ExecuteTime": {
     "end_time": "2025-03-15T10:45:50.185444Z",
     "start_time": "2025-03-15T10:45:50.178870Z"
    }
   },
   "cell_type": "code",
   "source": "a",
   "id": "2a28118379edd3a8",
   "outputs": [
    {
     "data": {
      "text/plain": [
       "1"
      ]
     },
     "execution_count": 6,
     "metadata": {},
     "output_type": "execute_result"
    }
   ],
   "execution_count": 6
  },
  {
   "metadata": {
    "ExecuteTime": {
     "end_time": "2025-03-15T10:45:51.097168Z",
     "start_time": "2025-03-15T10:45:51.092876Z"
    }
   },
   "cell_type": "code",
   "source": "b",
   "id": "4a64a0f26a88f5a8",
   "outputs": [
    {
     "data": {
      "text/plain": [
       "1"
      ]
     },
     "execution_count": 7,
     "metadata": {},
     "output_type": "execute_result"
    }
   ],
   "execution_count": 7
  },
  {
   "metadata": {
    "ExecuteTime": {
     "end_time": "2025-03-15T10:45:54.730076Z",
     "start_time": "2025-03-15T10:45:54.722868Z"
    }
   },
   "cell_type": "code",
   "source": "a = (b=1)",
   "id": "12c5f82ca559a306",
   "outputs": [
    {
     "ename": "SyntaxError",
     "evalue": "invalid syntax. Maybe you meant '==' or ':=' instead of '='? (3627858479.py, line 1)",
     "output_type": "error",
     "traceback": [
      "\u001B[1;36m  Cell \u001B[1;32mIn[8], line 1\u001B[1;36m\u001B[0m\n\u001B[1;33m    a= (b=1)\u001B[0m\n\u001B[1;37m        ^\u001B[0m\n\u001B[1;31mSyntaxError\u001B[0m\u001B[1;31m:\u001B[0m invalid syntax. Maybe you meant '==' or ':=' instead of '='?\n"
     ]
    }
   ],
   "execution_count": 8
  },
  {
   "metadata": {
    "ExecuteTime": {
     "end_time": "2025-03-15T10:48:17.927480Z",
     "start_time": "2025-03-15T10:48:17.919319Z"
    }
   },
   "cell_type": "code",
   "source": [
    "list1 = list()\n",
    "if list1:\n",
    "    print(\"a\")\n",
    "else:\n",
    "    print(\"b\")"
   ],
   "id": "68ec3596465b0988",
   "outputs": [
    {
     "name": "stdout",
     "output_type": "stream",
     "text": [
      "b\n"
     ]
    }
   ],
   "execution_count": 9
  },
  {
   "metadata": {
    "ExecuteTime": {
     "end_time": "2025-03-15T10:55:46.886932Z",
     "start_time": "2025-03-15T10:55:46.881805Z"
    }
   },
   "cell_type": "code",
   "source": "[1, 2, 3] == [1, 2, 3]",
   "id": "c015af6d6cd3c74d",
   "outputs": [
    {
     "data": {
      "text/plain": [
       "True"
      ]
     },
     "execution_count": 11,
     "metadata": {},
     "output_type": "execute_result"
    }
   ],
   "execution_count": 11
  },
  {
   "metadata": {
    "ExecuteTime": {
     "end_time": "2025-03-15T10:55:50.325341Z",
     "start_time": "2025-03-15T10:55:50.318324Z"
    }
   },
   "cell_type": "code",
   "source": "[1, 2, 3] < [1, 2, 4]",
   "id": "fe4e4931695d2e9e",
   "outputs": [
    {
     "data": {
      "text/plain": [
       "True"
      ]
     },
     "execution_count": 12,
     "metadata": {},
     "output_type": "execute_result"
    }
   ],
   "execution_count": 12
  },
  {
   "metadata": {
    "ExecuteTime": {
     "end_time": "2025-03-15T10:55:55.087519Z",
     "start_time": "2025-03-15T10:55:55.081440Z"
    }
   },
   "cell_type": "code",
   "source": "[1, 2, 3, 4] > [1, 2, 3]",
   "id": "cb4edb38b48b0404",
   "outputs": [
    {
     "data": {
      "text/plain": [
       "True"
      ]
     },
     "execution_count": 13,
     "metadata": {},
     "output_type": "execute_result"
    }
   ],
   "execution_count": 13
  },
  {
   "metadata": {
    "ExecuteTime": {
     "end_time": "2025-03-15T10:55:58.665973Z",
     "start_time": "2025-03-15T10:55:58.662180Z"
    }
   },
   "cell_type": "code",
   "source": "[1, 2, 3] < [1, 2, 3, 5] < [1, 2, 3, 5, 6]",
   "id": "cd57b485a58d561d",
   "outputs": [
    {
     "data": {
      "text/plain": [
       "True"
      ]
     },
     "execution_count": 14,
     "metadata": {},
     "output_type": "execute_result"
    }
   ],
   "execution_count": 14
  },
  {
   "metadata": {
    "ExecuteTime": {
     "end_time": "2025-03-15T10:56:02.093180Z",
     "start_time": "2025-03-15T10:56:02.085167Z"
    }
   },
   "cell_type": "code",
   "source": "[1, 2, 3, 4, 5] < [1, 2, 4]",
   "id": "a9f96fc8ae79cbd4",
   "outputs": [
    {
     "data": {
      "text/plain": [
       "True"
      ]
     },
     "execution_count": 15,
     "metadata": {},
     "output_type": "execute_result"
    }
   ],
   "execution_count": 15
  },
  {
   "metadata": {
    "ExecuteTime": {
     "end_time": "2025-03-15T11:00:17.583249Z",
     "start_time": "2025-03-15T11:00:17.578460Z"
    }
   },
   "cell_type": "code",
   "source": [
    "num: int = 1\n",
    "num"
   ],
   "id": "b5188f13ec3aaccd",
   "outputs": [
    {
     "data": {
      "text/plain": [
       "1"
      ]
     },
     "execution_count": 16,
     "metadata": {},
     "output_type": "execute_result"
    }
   ],
   "execution_count": 16
  },
  {
   "metadata": {
    "ExecuteTime": {
     "end_time": "2025-03-15T11:11:19.564230Z",
     "start_time": "2025-03-15T11:11:19.558158Z"
    }
   },
   "cell_type": "code",
   "source": [
    "lis1 = [1, 2, 3, 4, 5]\n",
    "lis2 = lis1\n",
    "\n",
    "lis1 is lis2 and lis1 == lis2"
   ],
   "id": "4988c7cbe8a316ef",
   "outputs": [
    {
     "data": {
      "text/plain": [
       "True"
      ]
     },
     "execution_count": 19,
     "metadata": {},
     "output_type": "execute_result"
    }
   ],
   "execution_count": 19
  },
  {
   "metadata": {
    "ExecuteTime": {
     "end_time": "2025-03-15T11:12:04.672155Z",
     "start_time": "2025-03-15T11:12:04.667155Z"
    }
   },
   "cell_type": "code",
   "source": "import copy",
   "id": "197b2a7e1e64ceb7",
   "outputs": [],
   "execution_count": 20
  },
  {
   "metadata": {
    "ExecuteTime": {
     "end_time": "2025-03-15T11:13:16.135167Z",
     "start_time": "2025-03-15T11:13:16.128493Z"
    }
   },
   "cell_type": "code",
   "source": [
    "lst1 = [1, 2, 3, 4, 5]\n",
    "lst2 = copy.deepcopy(lst1)\n",
    "\n",
    "lst1 == lst2"
   ],
   "id": "25987cc2d369e774",
   "outputs": [
    {
     "data": {
      "text/plain": [
       "True"
      ]
     },
     "execution_count": 22,
     "metadata": {},
     "output_type": "execute_result"
    }
   ],
   "execution_count": 22
  },
  {
   "metadata": {
    "ExecuteTime": {
     "end_time": "2025-03-15T11:16:13.627299Z",
     "start_time": "2025-03-15T11:16:13.619469Z"
    }
   },
   "cell_type": "code",
   "source": [
    "lst1 = [1, 2, 3, 4, 5]\n",
    "for idx, val in enumerate(lst1):\n",
    "    print(f\"index = [{idx}], {val}\")"
   ],
   "id": "9d86eb5eb6652838",
   "outputs": [
    {
     "name": "stdout",
     "output_type": "stream",
     "text": [
      "index = [0], 1\n",
      "index = [1], 2\n",
      "index = [2], 3\n",
      "index = [3], 4\n",
      "index = [4], 5\n"
     ]
    }
   ],
   "execution_count": 23
  },
  {
   "metadata": {
    "ExecuteTime": {
     "end_time": "2025-03-15T11:19:01.465517Z",
     "start_time": "2025-03-15T11:19:01.460337Z"
    }
   },
   "cell_type": "code",
   "source": [
    "lst1 = [2, 5, 6, 1, 9]\n",
    "\n",
    "for i in range(len(lst1) // 2):\n",
    "    lst1[i], lst1[len(lst1) - i - 1] = lst1[len(lst1) - i - 1], lst1[i]\n",
    "lst1"
   ],
   "id": "26fa0b32a4fc7162",
   "outputs": [
    {
     "data": {
      "text/plain": [
       "[9, 1, 6, 5, 2]"
      ]
     },
     "execution_count": 25,
     "metadata": {},
     "output_type": "execute_result"
    }
   ],
   "execution_count": 25
  },
  {
   "metadata": {
    "ExecuteTime": {
     "end_time": "2025-03-15T11:19:29.687283Z",
     "start_time": "2025-03-15T11:19:29.680785Z"
    }
   },
   "cell_type": "code",
   "source": [
    "lst1 = lst1[::-1]\n",
    "lst1"
   ],
   "id": "c91ae2b38cf529fd",
   "outputs": [
    {
     "data": {
      "text/plain": [
       "[2, 5, 6, 1, 9]"
      ]
     },
     "execution_count": 26,
     "metadata": {},
     "output_type": "execute_result"
    }
   ],
   "execution_count": 26
  },
  {
   "metadata": {
    "ExecuteTime": {
     "end_time": "2025-03-15T11:25:22.101975Z",
     "start_time": "2025-03-15T11:25:22.096228Z"
    }
   },
   "cell_type": "code",
   "source": [
    "def card_conv(x: int, r: int) -> str:\n",
    "    ans = \"\"\n",
    "    d = \"0123456789ABCDEFGHIJKLMNOPQRSTVWXYZ\"\n",
    "\n",
    "    while x > 0:\n",
    "        ans += d[x % r]\n",
    "        x //= r\n",
    "\n",
    "    return ans[::-1]"
   ],
   "id": "ff5ac36ec1a63197",
   "outputs": [],
   "execution_count": 29
  },
  {
   "metadata": {
    "ExecuteTime": {
     "end_time": "2025-03-15T11:25:22.765030Z",
     "start_time": "2025-03-15T11:25:22.760339Z"
    }
   },
   "cell_type": "code",
   "source": "card_conv(10, 2)",
   "id": "ead7312f4d53be9c",
   "outputs": [
    {
     "data": {
      "text/plain": [
       "'1010'"
      ]
     },
     "execution_count": 30,
     "metadata": {},
     "output_type": "execute_result"
    }
   ],
   "execution_count": 30
  },
  {
   "metadata": {
    "ExecuteTime": {
     "end_time": "2025-03-15T11:55:29.636952Z",
     "start_time": "2025-03-15T11:55:29.630390Z"
    }
   },
   "cell_type": "code",
   "source": [
    "def binary_search(find: int, lst: list):\n",
    "    left, right = 0, len(lst) - 1\n",
    "    \n",
    "    while True:\n",
    "        if left > right:\n",
    "            return None       \n",
    "        middle = (left + right) // 2\n",
    "        if lst[middle] == find:\n",
    "            break\n",
    "        elif lst[middle] < find:\n",
    "            left = middle + 1\n",
    "        else:\n",
    "            right = middle - 1\n",
    "    \n",
    "    return middle\n",
    "    "
   ],
   "id": "c6acbceeeb898ac2",
   "outputs": [],
   "execution_count": 32
  },
  {
   "metadata": {
    "ExecuteTime": {
     "end_time": "2025-03-15T11:57:08.874849Z",
     "start_time": "2025-03-15T11:57:08.867552Z"
    }
   },
   "cell_type": "code",
   "source": [
    "my_list = sorted([1,3,71,2,5,10,98,1028,127,62,98])\n",
    "\n",
    "binary_search(127, my_list)"
   ],
   "id": "9007c30745f42f7d",
   "outputs": [
    {
     "data": {
      "text/plain": [
       "9"
      ]
     },
     "execution_count": 35,
     "metadata": {},
     "output_type": "execute_result"
    }
   ],
   "execution_count": 35
  },
  {
   "metadata": {},
   "cell_type": "code",
   "outputs": [],
   "execution_count": null,
   "source": "",
   "id": "8a7161ffc23e6089"
  }
 ],
 "metadata": {
  "kernelspec": {
   "display_name": "Python 3",
   "language": "python",
   "name": "python3"
  },
  "language_info": {
   "codemirror_mode": {
    "name": "ipython",
    "version": 2
   },
   "file_extension": ".py",
   "mimetype": "text/x-python",
   "name": "python",
   "nbconvert_exporter": "python",
   "pygments_lexer": "ipython2",
   "version": "2.7.6"
  }
 },
 "nbformat": 4,
 "nbformat_minor": 5
}
