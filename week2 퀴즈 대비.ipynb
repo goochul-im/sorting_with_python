{
 "cells": [
  {
   "cell_type": "code",
   "id": "initial_id",
   "metadata": {
    "collapsed": true,
    "ExecuteTime": {
     "end_time": "2025-03-25T01:26:54.768529Z",
     "start_time": "2025-03-25T01:26:54.761205Z"
    }
   },
   "source": [
    "def merge_sort(lst: list, left: int, right: int):\n",
    "    center = (left + right) // 2\n",
    "\n",
    "    if left < right:\n",
    "        merge_sort(lst, left, center)\n",
    "        merge_sort(lst, center + 1, right)\n",
    "\n",
    "        left_point, right_point, buff_point = left, center + 1, left\n",
    "        buff = lst[:]\n",
    "\n",
    "        while left_point <= center and right_point <= right:\n",
    "            if lst[left_point] <= lst[right_point]:\n",
    "                buff[buff_point] = lst[left_point]\n",
    "                left_point += 1\n",
    "            else:\n",
    "                buff[buff_point] = lst[right_point]\n",
    "                right_point += 1\n",
    "            buff_point += 1\n",
    "\n",
    "        while left_point <= center:\n",
    "            buff[buff_point] = lst[left_point]\n",
    "            left_point += 1\n",
    "            buff_point += 1\n",
    "        while right_point <= right:\n",
    "            buff[buff_point] = lst[right_point]\n",
    "            right_point += 1\n",
    "            buff_point += 1\n",
    "\n",
    "        lst[left:right + 1] = buff[left:right + 1]\n",
    "\n",
    "\n",
    "temp_list = [10, 2, 7, 9, 15, 1, 4, 5, 8]\n",
    "merge_sort(temp_list, 0, len(temp_list) - 1)\n",
    "print(temp_list)\n"
   ],
   "outputs": [
    {
     "name": "stdout",
     "output_type": "stream",
     "text": [
      "[1, 2, 4, 5, 7, 8, 9, 10, 15]\n"
     ]
    }
   ],
   "execution_count": 1
  },
  {
   "metadata": {
    "ExecuteTime": {
     "end_time": "2025-03-25T01:34:32.669145Z",
     "start_time": "2025-03-25T01:34:32.664103Z"
    }
   },
   "cell_type": "code",
   "source": [
    "class Queue:\n",
    "    def __init__(self, size=10):\n",
    "        self.size = size\n",
    "        self.lst = [None] * size\n",
    "        self.length = 0\n",
    "        self.front = 0\n",
    "        self.rear = 0\n",
    "\n",
    "    def enqueue(self, n):\n",
    "        if self.length >= self.size:\n",
    "            return \"Queue Full\"\n",
    "        self.lst[self.front] = n\n",
    "        self.front = (self.front + 1) % self.size\n",
    "        self.length += 1\n",
    "        return f\"enqueue {n}, length = {self.length}\"\n",
    "\n",
    "    def dequeue(self):\n",
    "        if self.length == 0:\n",
    "            return \"Queue Empty\"\n",
    "        temp = self.lst[self.rear]\n",
    "        self.rear = (self.rear + 1) % self.size\n",
    "        self.length -= 1\n",
    "        return f\"dequeue {temp}, length = {self.length}\"\n"
   ],
   "id": "5de12b97ea6f33c9",
   "outputs": [],
   "execution_count": 17
  },
  {
   "metadata": {
    "ExecuteTime": {
     "end_time": "2025-03-25T01:34:33.051491Z",
     "start_time": "2025-03-25T01:34:33.046461Z"
    }
   },
   "cell_type": "code",
   "source": [
    "Q = Queue()\n",
    "Q.enqueue(1)\n",
    "Q.enqueue(2)\n",
    "Q.enqueue(5)\n",
    "Q.enqueue(2)\n",
    "Q.enqueue(7)\n",
    "Q.enqueue(10)\n",
    "Q.enqueue(15)"
   ],
   "id": "c2fa4f8e1b9caa74",
   "outputs": [
    {
     "data": {
      "text/plain": [
       "'enqueue 15, length = 7'"
      ]
     },
     "execution_count": 18,
     "metadata": {},
     "output_type": "execute_result"
    }
   ],
   "execution_count": 18
  },
  {
   "metadata": {
    "ExecuteTime": {
     "end_time": "2025-03-25T01:34:36.232241Z",
     "start_time": "2025-03-25T01:34:36.228983Z"
    }
   },
   "cell_type": "code",
   "source": [
    "Q.enqueue(1)\n",
    "Q.enqueue(1)"
   ],
   "id": "feb505f3fbfbcd2c",
   "outputs": [
    {
     "data": {
      "text/plain": [
       "'enqueue 1, length = 9'"
      ]
     },
     "execution_count": 19,
     "metadata": {},
     "output_type": "execute_result"
    }
   ],
   "execution_count": 19
  },
  {
   "metadata": {
    "ExecuteTime": {
     "end_time": "2025-03-25T01:34:37.658414Z",
     "start_time": "2025-03-25T01:34:37.652279Z"
    }
   },
   "cell_type": "code",
   "source": "Q.dequeue()",
   "id": "34d68d49f8f8c6a1",
   "outputs": [
    {
     "data": {
      "text/plain": [
       "'dequeue 1, length = 8'"
      ]
     },
     "execution_count": 20,
     "metadata": {},
     "output_type": "execute_result"
    }
   ],
   "execution_count": 20
  },
  {
   "metadata": {
    "ExecuteTime": {
     "end_time": "2025-03-25T01:34:49.909846Z",
     "start_time": "2025-03-25T01:34:49.904824Z"
    }
   },
   "cell_type": "code",
   "source": [
    "Q.dequeue()\n",
    "Q.dequeue()\n",
    "Q.dequeue()\n",
    "Q.dequeue()\n",
    "Q.dequeue()\n",
    "Q.dequeue()\n",
    "Q.dequeue()\n",
    "Q.dequeue()\n",
    "Q.dequeue()\n",
    "Q.dequeue()"
   ],
   "id": "57840a8f1d881ac5",
   "outputs": [
    {
     "data": {
      "text/plain": [
       "'Queue Empty'"
      ]
     },
     "execution_count": 21,
     "metadata": {},
     "output_type": "execute_result"
    }
   ],
   "execution_count": 21
  },
  {
   "metadata": {
    "ExecuteTime": {
     "end_time": "2025-03-25T01:54:18.707257Z",
     "start_time": "2025-03-25T01:54:18.703034Z"
    }
   },
   "cell_type": "code",
   "source": [
    "class Stack:\n",
    "    def __init__(self, size=10):\n",
    "        self.size = size\n",
    "        self.length = 0\n",
    "        self.rear = 0\n",
    "        self.lst = [None] * size\n",
    "\n",
    "    def insert(self, n):\n",
    "        if self.length >= self.size:\n",
    "            return \"Stack Full\"\n",
    "        self.lst[self.rear] = n\n",
    "        self.length += 1\n",
    "        self.rear += 1\n",
    "        return f\"insert {n}\"\n",
    "\n",
    "    def pop(self):\n",
    "        if self.length == 0:\n",
    "            return \"Stack Empty\"\n",
    "        self.rear -= 1\n",
    "        temp = self.lst[self.rear]\n",
    "        self.length -= 1\n",
    "        return f\"pop {temp}\"\n",
    "\n",
    "    def show_all(self):\n",
    "        print(self.lst)"
   ],
   "id": "5b3b004e67f6ab5b",
   "outputs": [],
   "execution_count": 44
  },
  {
   "metadata": {
    "ExecuteTime": {
     "end_time": "2025-03-25T01:54:18.910575Z",
     "start_time": "2025-03-25T01:54:18.907230Z"
    }
   },
   "cell_type": "code",
   "source": "stack = Stack()",
   "id": "13a53fc2d6af9bb1",
   "outputs": [],
   "execution_count": 45
  },
  {
   "metadata": {
    "ExecuteTime": {
     "end_time": "2025-03-25T01:54:19.184331Z",
     "start_time": "2025-03-25T01:54:19.179138Z"
    }
   },
   "cell_type": "code",
   "source": "stack.pop()",
   "id": "7db669cefecd555a",
   "outputs": [
    {
     "data": {
      "text/plain": [
       "'Stack Empty'"
      ]
     },
     "execution_count": 46,
     "metadata": {},
     "output_type": "execute_result"
    }
   ],
   "execution_count": 46
  },
  {
   "metadata": {
    "ExecuteTime": {
     "end_time": "2025-03-25T01:54:20.252552Z",
     "start_time": "2025-03-25T01:54:20.248171Z"
    }
   },
   "cell_type": "code",
   "source": "stack.insert(9)",
   "id": "af5151ccb3075953",
   "outputs": [
    {
     "data": {
      "text/plain": [
       "'insert 9'"
      ]
     },
     "execution_count": 47,
     "metadata": {},
     "output_type": "execute_result"
    }
   ],
   "execution_count": 47
  },
  {
   "metadata": {
    "ExecuteTime": {
     "end_time": "2025-03-25T01:54:25.874Z",
     "start_time": "2025-03-25T01:54:25.870827Z"
    }
   },
   "cell_type": "code",
   "source": [
    "for i in range(10):\n",
    "    stack.insert(i)\n",
    "stack.show_all()"
   ],
   "id": "a331c8929fe59ab5",
   "outputs": [
    {
     "name": "stdout",
     "output_type": "stream",
     "text": [
      "[9, 0, 1, 2, 3, 4, 5, 6, 7, 8]\n"
     ]
    }
   ],
   "execution_count": 48
  },
  {
   "metadata": {
    "ExecuteTime": {
     "end_time": "2025-03-25T01:54:32.448584Z",
     "start_time": "2025-03-25T01:54:32.442584Z"
    }
   },
   "cell_type": "code",
   "source": "stack.pop()",
   "id": "d3528705f1f58e28",
   "outputs": [
    {
     "data": {
      "text/plain": [
       "'pop 8'"
      ]
     },
     "execution_count": 49,
     "metadata": {},
     "output_type": "execute_result"
    }
   ],
   "execution_count": 49
  },
  {
   "metadata": {
    "ExecuteTime": {
     "end_time": "2025-03-25T01:54:35.439057Z",
     "start_time": "2025-03-25T01:54:35.434569Z"
    }
   },
   "cell_type": "code",
   "source": "stack.show_all()",
   "id": "2d71c203e40f6878",
   "outputs": [
    {
     "name": "stdout",
     "output_type": "stream",
     "text": [
      "[9, 0, 1, 2, 3, 4, 5, 6, 7, 8]\n"
     ]
    }
   ],
   "execution_count": 50
  },
  {
   "metadata": {
    "ExecuteTime": {
     "end_time": "2025-03-25T01:55:01.137111Z",
     "start_time": "2025-03-25T01:55:01.131675Z"
    }
   },
   "cell_type": "code",
   "source": "stack.insert(1000)",
   "id": "4b0694f435d478b5",
   "outputs": [
    {
     "data": {
      "text/plain": [
       "'insert 1000'"
      ]
     },
     "execution_count": 51,
     "metadata": {},
     "output_type": "execute_result"
    }
   ],
   "execution_count": 51
  },
  {
   "metadata": {
    "ExecuteTime": {
     "end_time": "2025-03-25T01:55:06.123796Z",
     "start_time": "2025-03-25T01:55:06.120590Z"
    }
   },
   "cell_type": "code",
   "source": "stack.show_all()",
   "id": "ebf869e1320e6d73",
   "outputs": [
    {
     "name": "stdout",
     "output_type": "stream",
     "text": [
      "[9, 0, 1, 2, 3, 4, 5, 6, 7, 1000]\n"
     ]
    }
   ],
   "execution_count": 52
  },
  {
   "metadata": {
    "ExecuteTime": {
     "end_time": "2025-03-25T02:05:35.295874Z",
     "start_time": "2025-03-25T02:05:35.291873Z"
    }
   },
   "cell_type": "code",
   "source": [
    "class Node:\n",
    "    def __init__(self, value: int, next_node=None):\n",
    "        self.value = value\n",
    "        self.next_node = next_node\n",
    "\n",
    "    def connect(self, next_node):\n",
    "        self.next_node = next_node\n",
    "\n",
    "    def get_value(self):\n",
    "        return self.value"
   ],
   "id": "3346c0d3a2bf5e13",
   "outputs": [],
   "execution_count": 53
  },
  {
   "metadata": {
    "ExecuteTime": {
     "end_time": "2025-03-25T02:07:53.738812Z",
     "start_time": "2025-03-25T02:07:53.734962Z"
    }
   },
   "cell_type": "code",
   "source": [
    "head = Node(10)\n",
    "node_1 = Node(15)\n",
    "node_2 = Node(7)\n",
    "node_3 = Node(2)\n",
    "node_4 = Node(20)\n",
    "\n",
    "head.connect(node_1)\n",
    "node_1.connect(node_2)\n",
    "node_2.connect(node_3)\n",
    "node_3.connect(node_4)\n"
   ],
   "id": "44aaf16649501f88",
   "outputs": [],
   "execution_count": 54
  },
  {
   "metadata": {
    "ExecuteTime": {
     "end_time": "2025-03-25T02:13:15.965337Z",
     "start_time": "2025-03-25T02:13:15.961087Z"
    }
   },
   "cell_type": "code",
   "source": [
    "cur_node = head\n",
    "while True:\n",
    "    print(cur_node.value)\n",
    "    if cur_node.next_node is None:\n",
    "        break\n",
    "    cur_node = cur_node.next_node"
   ],
   "id": "4ce3cd0fcd3ef62c",
   "outputs": [
    {
     "name": "stdout",
     "output_type": "stream",
     "text": [
      "10\n",
      "15\n",
      "7\n",
      "2\n",
      "20\n"
     ]
    }
   ],
   "execution_count": 61
  },
  {
   "metadata": {
    "ExecuteTime": {
     "end_time": "2025-03-25T02:18:37.874090Z",
     "start_time": "2025-03-25T02:18:37.868865Z"
    }
   },
   "cell_type": "code",
   "source": [
    "def binary_search(find: int, lst: list):\n",
    "    left = 0\n",
    "    right = len(lst) - 1\n",
    "    while left <= right:\n",
    "        middle = (left + right) // 2\n",
    "        if find == lst[middle]:\n",
    "            return middle\n",
    "        elif find < lst[middle]:\n",
    "            right = middle - 1\n",
    "        else:\n",
    "            left = middle + 1\n",
    "    print(\"해당 값은 리스트 안에 존재하지 않아요\")\n"
   ],
   "id": "cd4702b264f061ac",
   "outputs": [],
   "execution_count": 62
  },
  {
   "metadata": {
    "ExecuteTime": {
     "end_time": "2025-03-25T02:21:01.128770Z",
     "start_time": "2025-03-25T02:21:01.115618Z"
    }
   },
   "cell_type": "code",
   "source": [
    "temp_list = [1, 3, 7, 10, 100, 20, 58, 83, 1002, 348, 201, 2489, 12, 445, 23, 123]\n",
    "temp_list.sort()\n",
    "find = 2000\n",
    "find_idx = binary_search(find, temp_list)\n",
    "print(f\"찾은 idx = {find_idx}, 실제 idx = {temp_list.index(find)}\")"
   ],
   "id": "c849b4a7e5ed0efe",
   "outputs": [
    {
     "name": "stdout",
     "output_type": "stream",
     "text": [
      "해당 값은 리스트 안에 존재하지 않아요\n"
     ]
    },
    {
     "ename": "ValueError",
     "evalue": "2000 is not in list",
     "output_type": "error",
     "traceback": [
      "\u001B[1;31m---------------------------------------------------------------------------\u001B[0m",
      "\u001B[1;31mValueError\u001B[0m                                Traceback (most recent call last)",
      "Cell \u001B[1;32mIn[69], line 5\u001B[0m\n\u001B[0;32m      3\u001B[0m find \u001B[38;5;241m=\u001B[39m \u001B[38;5;241m2000\u001B[39m\n\u001B[0;32m      4\u001B[0m find_idx \u001B[38;5;241m=\u001B[39m binary_search(find,temp_list)\n\u001B[1;32m----> 5\u001B[0m \u001B[38;5;28mprint\u001B[39m(\u001B[38;5;124mf\u001B[39m\u001B[38;5;124m\"\u001B[39m\u001B[38;5;124m찾은 idx = \u001B[39m\u001B[38;5;132;01m{\u001B[39;00mfind_idx\u001B[38;5;132;01m}\u001B[39;00m\u001B[38;5;124m, 실제 idx = \u001B[39m\u001B[38;5;132;01m{\u001B[39;00mtemp_list\u001B[38;5;241m.\u001B[39mindex(find)\u001B[38;5;132;01m}\u001B[39;00m\u001B[38;5;124m\"\u001B[39m)\n",
      "\u001B[1;31mValueError\u001B[0m: 2000 is not in list"
     ]
    }
   ],
   "execution_count": 69
  },
  {
   "metadata": {
    "ExecuteTime": {
     "end_time": "2025-03-25T02:50:10.081621Z",
     "start_time": "2025-03-25T02:50:10.074624Z"
    }
   },
   "cell_type": "code",
   "source": [
    "class HashTable:\n",
    "    def __init__(self, size=10):\n",
    "        self.size = size\n",
    "        self.length = 0\n",
    "        self.lst = [None] * size\n",
    "\n",
    "    def insert(self, n):\n",
    "        idx = n % self.size\n",
    "        if self.length > self.size:\n",
    "            print(\"Hash table is Full\")\n",
    "            return\n",
    "        while self.lst[idx] is not None:\n",
    "            idx = (idx + 1) % self.size\n",
    "        self.lst[idx] = n\n",
    "        self.length += 1\n",
    "        print(f\"insert {n}\")\n",
    "\n",
    "    def find_value(self, n):\n",
    "        idx = n % self.size\n",
    "        if self.length == 0:\n",
    "            print(\"Hash table is empty\")\n",
    "            return\n",
    "        count = 0\n",
    "        while self.lst[idx] != n and count < self.size:\n",
    "            idx = (idx + 1) % self.size\n",
    "            count += 1\n",
    "        if self.lst[idx] == n:\n",
    "            print(f\"idx = {idx}\")\n",
    "            return\n",
    "        else:\n",
    "            print(\"no value in table\")\"\"\n",
    "            return\n",
    "\n",
    "    def delete_value(self, n):\n",
    "        idx = n % self.size\n",
    "        if self.length == 0:\n",
    "            print(\"Hash table is empty\")\n",
    "            return\n",
    "        count = 0\n",
    "        while self.lst[idx] != n and count < self.size:\n",
    "            idx = (idx + 1) % self.size\n",
    "            count += 1\n",
    "        if self.lst[idx] == n:\n",
    "            print(f\"delete {n}\")\n",
    "            self.lst[idx] = float('-inf')\n",
    "            self.length -= 1\n",
    "            return\n",
    "        else:\n",
    "            print(\"no value in table\")\n",
    "            return\n",
    "            \n",
    "            \n",
    "            "
   ],
   "id": "4b5347bdb504c871",
   "outputs": [
    {
     "ename": "SyntaxError",
     "evalue": "invalid syntax (688237804.py, line 31)",
     "output_type": "error",
     "traceback": [
      "\u001B[1;36m  Cell \u001B[1;32mIn[81], line 31\u001B[1;36m\u001B[0m\n\u001B[1;33m    print(\"no value in table\")\"\"\u001B[0m\n\u001B[1;37m                              ^\u001B[0m\n\u001B[1;31mSyntaxError\u001B[0m\u001B[1;31m:\u001B[0m invalid syntax\n"
     ]
    }
   ],
   "execution_count": 81
  },
  {
   "metadata": {
    "ExecuteTime": {
     "end_time": "2025-03-25T02:50:10.554537Z",
     "start_time": "2025-03-25T02:50:10.550031Z"
    }
   },
   "cell_type": "code",
   "source": [
    "table = HashTable()\n",
    "table.insert(10)"
   ],
   "id": "db601ede820738fc",
   "outputs": [
    {
     "name": "stdout",
     "output_type": "stream",
     "text": [
      "insert 10\n"
     ]
    }
   ],
   "execution_count": 82
  },
  {
   "metadata": {
    "ExecuteTime": {
     "end_time": "2025-03-25T02:50:10.945350Z",
     "start_time": "2025-03-25T02:50:10.942019Z"
    }
   },
   "cell_type": "code",
   "source": "table.find_value(10)",
   "id": "eecd2969dfa03d32",
   "outputs": [
    {
     "name": "stdout",
     "output_type": "stream",
     "text": [
      "idx = 0\n"
     ]
    }
   ],
   "execution_count": 83
  },
  {
   "metadata": {
    "ExecuteTime": {
     "end_time": "2025-03-25T02:50:28.688775Z",
     "start_time": "2025-03-25T02:50:14.676594Z"
    }
   },
   "cell_type": "code",
   "source": "table.delete_value(10)",
   "id": "30543e27ef1178b3",
   "outputs": [
    {
     "ename": "KeyboardInterrupt",
     "evalue": "",
     "output_type": "error",
     "traceback": [
      "\u001B[1;31m---------------------------------------------------------------------------\u001B[0m",
      "\u001B[1;31mKeyboardInterrupt\u001B[0m                         Traceback (most recent call last)",
      "Cell \u001B[1;32mIn[84], line 1\u001B[0m\n\u001B[1;32m----> 1\u001B[0m table\u001B[38;5;241m.\u001B[39mdelete_value(\u001B[38;5;241m10\u001B[39m)\n",
      "Cell \u001B[1;32mIn[78], line 40\u001B[0m, in \u001B[0;36mHashTable.delete_value\u001B[1;34m(self, n)\u001B[0m\n\u001B[0;32m     38\u001B[0m     \u001B[38;5;28;01mreturn\u001B[39;00m\n\u001B[0;32m     39\u001B[0m count \u001B[38;5;241m=\u001B[39m \u001B[38;5;241m0\u001B[39m\n\u001B[1;32m---> 40\u001B[0m \u001B[38;5;28;01mwhile\u001B[39;00m \u001B[38;5;28mself\u001B[39m\u001B[38;5;241m.\u001B[39mlst[idx] \u001B[38;5;129;01mis\u001B[39;00m \u001B[38;5;129;01mnot\u001B[39;00m \u001B[38;5;28;01mNone\u001B[39;00m \u001B[38;5;129;01mor\u001B[39;00m \u001B[38;5;28mself\u001B[39m\u001B[38;5;241m.\u001B[39mlst[idx] \u001B[38;5;241m!=\u001B[39m n \u001B[38;5;129;01mor\u001B[39;00m count \u001B[38;5;241m<\u001B[39m \u001B[38;5;28mself\u001B[39m\u001B[38;5;241m.\u001B[39msize:\n\u001B[0;32m     41\u001B[0m     idx \u001B[38;5;241m=\u001B[39m (idx \u001B[38;5;241m+\u001B[39m \u001B[38;5;241m1\u001B[39m) \u001B[38;5;241m%\u001B[39m \u001B[38;5;28mself\u001B[39m\u001B[38;5;241m.\u001B[39msize\n\u001B[0;32m     42\u001B[0m     count \u001B[38;5;241m+\u001B[39m\u001B[38;5;241m=\u001B[39m \u001B[38;5;241m1\u001B[39m\n",
      "\u001B[1;31mKeyboardInterrupt\u001B[0m: "
     ]
    }
   ],
   "execution_count": 84
  },
  {
   "metadata": {},
   "cell_type": "code",
   "outputs": [],
   "execution_count": null,
   "source": "",
   "id": "debc8215d63ae924"
  }
 ],
 "metadata": {
  "kernelspec": {
   "display_name": "Python 3",
   "language": "python",
   "name": "python3"
  },
  "language_info": {
   "codemirror_mode": {
    "name": "ipython",
    "version": 2
   },
   "file_extension": ".py",
   "mimetype": "text/x-python",
   "name": "python",
   "nbconvert_exporter": "python",
   "pygments_lexer": "ipython2",
   "version": "2.7.6"
  }
 },
 "nbformat": 4,
 "nbformat_minor": 5
}
