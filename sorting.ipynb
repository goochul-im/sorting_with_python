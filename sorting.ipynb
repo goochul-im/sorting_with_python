{
 "cells": [
  {
   "metadata": {},
   "cell_type": "markdown",
   "source": "# 버블 정렬\n",
   "id": "f4a1fb609a97dbe4"
  },
  {
   "metadata": {
    "ExecuteTime": {
     "end_time": "2025-03-16T09:05:07.478250Z",
     "start_time": "2025-03-16T09:05:07.474166Z"
    }
   },
   "cell_type": "code",
   "source": [
    "def bubble_sort(lst: list):\n",
    "    length = len(lst)\n",
    "    for i in range(length - 1):\n",
    "        print(lst)\n",
    "        for j in range(i, length):\n",
    "            if lst[i] > lst[j]:\n",
    "                lst[i], lst[j] = lst[j], lst[i]"
   ],
   "id": "initial_id",
   "outputs": [],
   "execution_count": 7
  },
  {
   "metadata": {
    "ExecuteTime": {
     "end_time": "2025-03-16T09:05:08.033933Z",
     "start_time": "2025-03-16T09:05:08.026932Z"
    }
   },
   "cell_type": "code",
   "source": [
    "my_list = [10, 2, 7, 9, 15, 17, 5]\n",
    "bubble_sort(my_list)\n",
    "my_list"
   ],
   "id": "2a1633d56693e8e5",
   "outputs": [
    {
     "name": "stdout",
     "output_type": "stream",
     "text": [
      "[10, 2, 7, 9, 15, 17, 5]\n",
      "[2, 10, 7, 9, 15, 17, 5]\n",
      "[2, 5, 10, 9, 15, 17, 7]\n",
      "[2, 5, 7, 10, 15, 17, 9]\n",
      "[2, 5, 7, 9, 15, 17, 10]\n",
      "[2, 5, 7, 9, 10, 17, 15]\n"
     ]
    },
    {
     "data": {
      "text/plain": [
       "[2, 5, 7, 9, 10, 15, 17]"
      ]
     },
     "execution_count": 8,
     "metadata": {},
     "output_type": "execute_result"
    }
   ],
   "execution_count": 8
  },
  {
   "metadata": {},
   "cell_type": "markdown",
   "source": "### 버블 정렬의 개선 1",
   "id": "43967f653465f957"
  },
  {
   "metadata": {
    "ExecuteTime": {
     "end_time": "2025-03-16T09:06:35.701428Z",
     "start_time": "2025-03-16T09:06:35.697428Z"
    }
   },
   "cell_type": "code",
   "source": [
    "def bubble_sort_enhance(lst: list):\n",
    "    length = len(lst)\n",
    "    for i in range(length - 1):\n",
    "        print(lst)\n",
    "        exch = 0\n",
    "        for j in range(i, length):\n",
    "            if lst[i] > lst[j]:\n",
    "                lst[i], lst[j] = lst[j], lst[i]\n",
    "                exch += 1\n",
    "        if exch == 0:\n",
    "            break"
   ],
   "id": "1ce0e57273aceecb",
   "outputs": [],
   "execution_count": 9
  },
  {
   "metadata": {
    "ExecuteTime": {
     "end_time": "2025-03-16T09:07:03.991359Z",
     "start_time": "2025-03-16T09:07:03.986853Z"
    }
   },
   "cell_type": "code",
   "source": [
    "my_list = [6, 4, 3, 7, 1, 9, 8]\n",
    "bubble_sort_enhance(my_list)"
   ],
   "id": "e3af184f5e96420d",
   "outputs": [
    {
     "name": "stdout",
     "output_type": "stream",
     "text": [
      "[6, 4, 3, 7, 1, 9, 8]\n",
      "[1, 6, 4, 7, 3, 9, 8]\n",
      "[1, 3, 6, 7, 4, 9, 8]\n",
      "[1, 3, 4, 7, 6, 9, 8]\n",
      "[1, 3, 4, 6, 7, 9, 8]\n"
     ]
    }
   ],
   "execution_count": 10
  },
  {
   "metadata": {
    "ExecuteTime": {
     "end_time": "2025-03-16T09:07:12.905910Z",
     "start_time": "2025-03-16T09:07:12.902581Z"
    }
   },
   "cell_type": "code",
   "source": "bubble_sort(my_list)",
   "id": "d5497006eb9ed40c",
   "outputs": [
    {
     "name": "stdout",
     "output_type": "stream",
     "text": [
      "[1, 3, 4, 6, 7, 9, 8]\n",
      "[1, 3, 4, 6, 7, 9, 8]\n",
      "[1, 3, 4, 6, 7, 9, 8]\n",
      "[1, 3, 4, 6, 7, 9, 8]\n",
      "[1, 3, 4, 6, 7, 9, 8]\n",
      "[1, 3, 4, 6, 7, 9, 8]\n"
     ]
    }
   ],
   "execution_count": 11
  },
  {
   "metadata": {},
   "cell_type": "markdown",
   "source": "### 버블 정렬의 개선 2",
   "id": "78cd7305f5f2f024"
  },
  {
   "metadata": {
    "ExecuteTime": {
     "end_time": "2025-03-16T09:15:11.286571Z",
     "start_time": "2025-03-16T09:15:11.282221Z"
    }
   },
   "cell_type": "code",
   "source": [
    "def bubble_sort_enhance_2(lst: list):\n",
    "    n = len(lst)\n",
    "    k = 0\n",
    "    while k < n - 1:\n",
    "        last = n - 1\n",
    "        print(lst)\n",
    "        for j in range(n - 1, k, -1):\n",
    "            if lst[j - 1] > lst[j]:\n",
    "                lst[j - 1], lst[j] = lst[j], lst[j - 1]\n",
    "                last = j\n",
    "        k = last"
   ],
   "id": "b50d2a4ac38866c2",
   "outputs": [],
   "execution_count": 15
  },
  {
   "metadata": {
    "ExecuteTime": {
     "end_time": "2025-03-16T09:15:11.901153Z",
     "start_time": "2025-03-16T09:15:11.897222Z"
    }
   },
   "cell_type": "code",
   "source": [
    "my_list = [6, 4, 3, 7, 1, 9, 8]\n",
    "bubble_sort_enhance_2(my_list)"
   ],
   "id": "918458e1d56522bd",
   "outputs": [
    {
     "name": "stdout",
     "output_type": "stream",
     "text": [
      "[6, 4, 3, 7, 1, 9, 8]\n",
      "[1, 6, 4, 3, 7, 8, 9]\n",
      "[1, 3, 6, 4, 7, 8, 9]\n",
      "[1, 3, 4, 6, 7, 8, 9]\n"
     ]
    }
   ],
   "execution_count": 16
  },
  {
   "metadata": {},
   "cell_type": "markdown",
   "source": [
    "### 셰이커 정렬\n",
    "- [9,1,3,4,6,7,8] 과 같이 큰 원소가 앞쪽에 있어 계속해서 교환이 일어나는 경우에 유용"
   ],
   "id": "1b8a2623e76e37bc"
  },
  {
   "metadata": {
    "ExecuteTime": {
     "end_time": "2025-03-16T10:26:45.081377Z",
     "start_time": "2025-03-16T10:26:45.076377Z"
    }
   },
   "cell_type": "code",
   "source": [
    "def shaker_sort(lst: list):\n",
    "    left = 0\n",
    "    right = len(lst) - 1\n",
    "    last = right\n",
    "    while left < right:\n",
    "        print(lst)\n",
    "        for i in range(right, left, -1):\n",
    "            if lst[i] < lst[i - 1]:\n",
    "                lst[i], lst[i - 1] = lst[i - 1], lst[i],\n",
    "                last = i\n",
    "            left = last\n",
    "\n",
    "        for j in range(left, right):\n",
    "            if lst[j] > lst[j + 1]:\n",
    "                lst[j], lst[j + 1] = lst[j + 1], lst[j],\n",
    "                last = j\n",
    "            right = last\n"
   ],
   "id": "8d329257d64b444d",
   "outputs": [],
   "execution_count": 19
  },
  {
   "metadata": {
    "ExecuteTime": {
     "end_time": "2025-03-16T10:26:45.514232Z",
     "start_time": "2025-03-16T10:26:45.509231Z"
    }
   },
   "cell_type": "code",
   "source": [
    "my_list = [9, 1, 3, 4, 6, 7, 8]\n",
    "shaker_sort(my_list)"
   ],
   "id": "c59e58e002fe2692",
   "outputs": [
    {
     "name": "stdout",
     "output_type": "stream",
     "text": [
      "[9, 1, 3, 4, 6, 7, 8]\n",
      "[1, 3, 4, 6, 7, 8, 9]\n"
     ]
    }
   ],
   "execution_count": 20
  },
  {
   "metadata": {},
   "cell_type": "markdown",
   "source": "# 선택 정렬",
   "id": "b6fcb14c34637ccf"
  },
  {
   "metadata": {
    "ExecuteTime": {
     "end_time": "2025-03-16T10:57:47.259381Z",
     "start_time": "2025-03-16T10:57:47.254336Z"
    }
   },
   "cell_type": "code",
   "source": [
    "def selection_sort(lst: list):\n",
    "    n = len(lst)\n",
    "    for i in range(n):\n",
    "        print(lst)\n",
    "        cur_list = lst[i:]\n",
    "        min_idx = lst.index(min(cur_list))\n",
    "        print(f\"min_idx = {min_idx}\")\n",
    "        lst[min_idx], lst[i] = lst[i], lst[min_idx]"
   ],
   "id": "51bd1d4b7b7078fa",
   "outputs": [],
   "execution_count": 29
  },
  {
   "metadata": {
    "ExecuteTime": {
     "end_time": "2025-03-16T10:57:48.061267Z",
     "start_time": "2025-03-16T10:57:48.056988Z"
    }
   },
   "cell_type": "code",
   "source": [
    "my_list = [9, 1, 3, 4, 6, 7, 8]\n",
    "selection_sort(my_list)"
   ],
   "id": "1a01896040c93cac",
   "outputs": [
    {
     "name": "stdout",
     "output_type": "stream",
     "text": [
      "[9, 1, 3, 4, 6, 7, 8]\n",
      "min_idx = 1\n",
      "[1, 9, 3, 4, 6, 7, 8]\n",
      "min_idx = 2\n",
      "[1, 3, 9, 4, 6, 7, 8]\n",
      "min_idx = 3\n",
      "[1, 3, 4, 9, 6, 7, 8]\n",
      "min_idx = 4\n",
      "[1, 3, 4, 6, 9, 7, 8]\n",
      "min_idx = 5\n",
      "[1, 3, 4, 6, 7, 9, 8]\n",
      "min_idx = 6\n",
      "[1, 3, 4, 6, 7, 8, 9]\n",
      "min_idx = 6\n"
     ]
    }
   ],
   "execution_count": 30
  },
  {
   "metadata": {},
   "cell_type": "markdown",
   "source": "# 단순 삽입 정렬",
   "id": "955c0fbe09ea8f3d"
  },
  {
   "metadata": {
    "ExecuteTime": {
     "end_time": "2025-03-16T11:21:53.752771Z",
     "start_time": "2025-03-16T11:21:53.748459Z"
    }
   },
   "cell_type": "code",
   "source": [
    "def insertion_sort(lst: list):\n",
    "    n = len(lst)\n",
    "    for i in range(1, n):\n",
    "        j = i - 1\n",
    "        while j > 0:\n",
    "            if lst[j] > lst[i]:\n",
    "                break\n",
    "            j -= 1\n",
    "        lst[j], lst[i] = lst[i], lst[j]\n",
    "        print(lst)"
   ],
   "id": "a98f40d111c36862",
   "outputs": [],
   "execution_count": 48
  },
  {
   "metadata": {
    "ExecuteTime": {
     "end_time": "2025-03-16T11:21:53.960797Z",
     "start_time": "2025-03-16T11:21:53.956342Z"
    }
   },
   "cell_type": "code",
   "source": [
    "my_list = [9, 1, 3, 4, 6, 7, 8]\n",
    "insertion_sort(my_list)\n",
    "my_list"
   ],
   "id": "3fedb87dce49dcd6",
   "outputs": [
    {
     "name": "stdout",
     "output_type": "stream",
     "text": [
      "[1, 9, 3, 4, 6, 7, 8]\n",
      "[1, 3, 9, 4, 6, 7, 8]\n",
      "[1, 3, 4, 9, 6, 7, 8]\n",
      "[1, 3, 4, 6, 9, 7, 8]\n",
      "[1, 3, 4, 6, 7, 9, 8]\n",
      "[1, 3, 4, 6, 7, 8, 9]\n"
     ]
    },
    {
     "data": {
      "text/plain": [
       "[1, 3, 4, 6, 7, 8, 9]"
      ]
     },
     "execution_count": 49,
     "metadata": {},
     "output_type": "execute_result"
    }
   ],
   "execution_count": 49
  },
  {
   "metadata": {},
   "cell_type": "markdown",
   "source": "# 셸 정렬",
   "id": "896ad4d978a9648a"
  },
  {
   "metadata": {
    "ExecuteTime": {
     "end_time": "2025-03-17T05:45:46.124619Z",
     "start_time": "2025-03-17T05:45:46.117805Z"
    }
   },
   "cell_type": "code",
   "source": [
    "def shell_sort(lst: list):\n",
    "    n = len(lst)\n",
    "    h = n // 2  # 처음에 반으로 나누고\n",
    "    while h > 0:\n",
    "        print(f\"h = {h}\")\n",
    "        for i in range(h, n):\n",
    "            j = i - h\n",
    "            tmp = lst[i]\n",
    "            while j >= 0 and lst[j] > tmp:\n",
    "                lst[j + h] = lst[j]\n",
    "                j -= h\n",
    "            lst[j + h] = tmp\n",
    "            print(lst)\n",
    "        h //= 2\n"
   ],
   "id": "370ccffb05e0d380",
   "outputs": [],
   "execution_count": 21
  },
  {
   "metadata": {
    "ExecuteTime": {
     "end_time": "2025-03-17T05:45:46.301765Z",
     "start_time": "2025-03-17T05:45:46.296205Z"
    }
   },
   "cell_type": "code",
   "source": "my_list = [9, 8, 3, 7, 5, 6, 4, 1]",
   "id": "c458716768772ed",
   "outputs": [],
   "execution_count": 22
  },
  {
   "metadata": {
    "ExecuteTime": {
     "end_time": "2025-03-17T05:45:46.742891Z",
     "start_time": "2025-03-17T05:45:46.734861Z"
    }
   },
   "cell_type": "code",
   "source": [
    "shell_sort(my_list)\n",
    "my_list"
   ],
   "id": "493601d7b1509aaf",
   "outputs": [
    {
     "name": "stdout",
     "output_type": "stream",
     "text": [
      "h = 4\n",
      "[5, 8, 3, 7, 9, 6, 4, 1]\n",
      "[5, 6, 3, 7, 9, 8, 4, 1]\n",
      "[5, 6, 3, 7, 9, 8, 4, 1]\n",
      "[5, 6, 3, 1, 9, 8, 4, 7]\n",
      "h = 2\n",
      "[3, 6, 5, 1, 9, 8, 4, 7]\n",
      "[3, 1, 5, 6, 9, 8, 4, 7]\n",
      "[3, 1, 5, 6, 9, 8, 4, 7]\n",
      "[3, 1, 5, 6, 9, 8, 4, 7]\n",
      "[3, 1, 4, 6, 5, 8, 9, 7]\n",
      "[3, 1, 4, 6, 5, 7, 9, 8]\n",
      "h = 1\n",
      "[1, 3, 4, 6, 5, 7, 9, 8]\n",
      "[1, 3, 4, 6, 5, 7, 9, 8]\n",
      "[1, 3, 4, 6, 5, 7, 9, 8]\n",
      "[1, 3, 4, 5, 6, 7, 9, 8]\n",
      "[1, 3, 4, 5, 6, 7, 9, 8]\n",
      "[1, 3, 4, 5, 6, 7, 9, 8]\n",
      "[1, 3, 4, 5, 6, 7, 8, 9]\n"
     ]
    },
    {
     "data": {
      "text/plain": [
       "[1, 3, 4, 5, 6, 7, 8, 9]"
      ]
     },
     "execution_count": 23,
     "metadata": {},
     "output_type": "execute_result"
    }
   ],
   "execution_count": 23
  },
  {
   "metadata": {},
   "cell_type": "markdown",
   "source": "# 퀵 정렬",
   "id": "29eabd34794e0fca"
  },
  {
   "metadata": {
    "ExecuteTime": {
     "end_time": "2025-03-17T07:12:22.907607Z",
     "start_time": "2025-03-17T07:12:22.901641Z"
    }
   },
   "cell_type": "code",
   "source": [
    "def quick_sort(lst: list, left: int, right: int):\n",
    "    pivot = lst[(left + right) // 2]\n",
    "    pl = left\n",
    "    pr = right\n",
    "    print(f\"left = [{left}], right = [{right}] : {lst[left:right + 1]}\")\n",
    "    while pl <= pr:\n",
    "        while lst[pl] < pivot:\n",
    "            pl += 1\n",
    "        while lst[pr] > pivot:\n",
    "            pr -= 1\n",
    "        if pl <= pr:\n",
    "            lst[pl], lst[pr] = lst[pr], lst[pl]\n",
    "            pl += 1\n",
    "            pr -= 1\n",
    "\n",
    "    if left < pr:\n",
    "        quick_sort(lst, left, pr)\n",
    "    if right > pl:\n",
    "        quick_sort(lst, pl, right)\n"
   ],
   "id": "4fc9b997d613a5cf",
   "outputs": [],
   "execution_count": 58
  },
  {
   "metadata": {
    "ExecuteTime": {
     "end_time": "2025-03-17T07:12:23.130554Z",
     "start_time": "2025-03-17T07:12:23.125038Z"
    }
   },
   "cell_type": "code",
   "source": "my_list = [9, 8, 3, 7, 5, 6, 4, 1]",
   "id": "7c03dbde1080d56a",
   "outputs": [],
   "execution_count": 59
  },
  {
   "metadata": {
    "ExecuteTime": {
     "end_time": "2025-03-17T07:12:23.280255Z",
     "start_time": "2025-03-17T07:12:23.273833Z"
    }
   },
   "cell_type": "code",
   "source": [
    "quick_sort(my_list, 0, len(my_list) - 1)\n",
    "my_list"
   ],
   "id": "4081501d5ea57b87",
   "outputs": [
    {
     "name": "stdout",
     "output_type": "stream",
     "text": [
      "left = [0], right = [7] : [9, 8, 3, 7, 5, 6, 4, 1]\n",
      "left = [0], right = [4] : [1, 4, 3, 6, 5]\n",
      "left = [0], right = [1] : [1, 3]\n",
      "left = [2], right = [4] : [4, 6, 5]\n",
      "left = [2], right = [3] : [4, 5]\n",
      "left = [5], right = [7] : [7, 8, 9]\n"
     ]
    },
    {
     "data": {
      "text/plain": [
       "[1, 3, 4, 5, 6, 7, 8, 9]"
      ]
     },
     "execution_count": 60,
     "metadata": {},
     "output_type": "execute_result"
    }
   ],
   "execution_count": 60
  },
  {
   "metadata": {
    "ExecuteTime": {
     "end_time": "2025-03-17T07:35:33.667908Z",
     "start_time": "2025-03-17T07:35:33.660823Z"
    }
   },
   "cell_type": "code",
   "source": [
    "def quick_sort_by_stack(lst: list):\n",
    "    stack = [(0, len(lst) - 1)]\n",
    "\n",
    "    while len(stack) != 0:\n",
    "        print(lst)\n",
    "        point = stack.pop()\n",
    "\n",
    "        left = point[0]\n",
    "        right = point[1]\n",
    "\n",
    "        pivot = lst[(left + right) // 2]\n",
    "        pl = left\n",
    "        pr = right\n",
    "        while pl <= pr:\n",
    "            while lst[pl] < pivot:\n",
    "                pl += 1\n",
    "            while lst[pr] > pivot:\n",
    "                pr -= 1\n",
    "            if pl <= pr:\n",
    "                lst[pl], lst[pr] = lst[pr], lst[pl]\n",
    "                pl += 1\n",
    "                pr -= 1\n",
    "\n",
    "        if left < pr:\n",
    "            stack.append((left, pr))\n",
    "        if right > pl:\n",
    "            stack.append((pl, right))\n"
   ],
   "id": "ee335a9e8f10ae88",
   "outputs": [],
   "execution_count": 76
  },
  {
   "metadata": {
    "ExecuteTime": {
     "end_time": "2025-03-17T07:35:33.881794Z",
     "start_time": "2025-03-17T07:35:33.874561Z"
    }
   },
   "cell_type": "code",
   "source": [
    "my_list = [9, 8, 3, 7, 5, 6, 4, 1]\n",
    "quick_sort_by_stack(my_list)\n",
    "my_list"
   ],
   "id": "49a43417e858967d",
   "outputs": [
    {
     "name": "stdout",
     "output_type": "stream",
     "text": [
      "[9, 8, 3, 7, 5, 6, 4, 1]\n",
      "[1, 4, 3, 6, 5, 7, 8, 9]\n",
      "[1, 4, 3, 6, 5, 7, 8, 9]\n",
      "[1, 3, 4, 6, 5, 7, 8, 9]\n",
      "[1, 3, 4, 5, 6, 7, 8, 9]\n",
      "[1, 3, 4, 5, 6, 7, 8, 9]\n"
     ]
    },
    {
     "data": {
      "text/plain": [
       "[1, 3, 4, 5, 6, 7, 8, 9]"
      ]
     },
     "execution_count": 77,
     "metadata": {},
     "output_type": "execute_result"
    }
   ],
   "execution_count": 77
  },
  {
   "metadata": {},
   "cell_type": "markdown",
   "source": "# 병합 정렬",
   "id": "573ca1ec66fc3da8"
  },
  {
   "metadata": {
    "ExecuteTime": {
     "end_time": "2025-03-17T08:32:40.764018Z",
     "start_time": "2025-03-17T08:32:40.755615Z"
    }
   },
   "cell_type": "code",
   "source": [
    "def merge_sort(lst: list, left: int, right: int):\n",
    "    center = (left + right) // 2\n",
    "\n",
    "    if left < right:\n",
    "        merge_sort(lst, left, center)\n",
    "        merge_sort(lst, center + 1, right)\n",
    "\n",
    "        left_point = left\n",
    "        right_point = center + 1\n",
    "        buff_point = left\n",
    "        buffer = lst[:]\n",
    "\n",
    "        # 투 포인터?\n",
    "        while left_point <= center and right_point <= right:\n",
    "            if lst[left_point] <= lst[right_point]:\n",
    "                buffer[buff_point] = lst[left_point]\n",
    "                left_point += 1\n",
    "            else:\n",
    "                buffer[buff_point] = lst[right_point]\n",
    "                right_point += 1\n",
    "            buff_point += 1\n",
    "\n",
    "        while left_point <= center:\n",
    "            buffer[buff_point] = lst[left_point]\n",
    "            buff_point += 1\n",
    "            left_point += 1\n",
    "        while right_point <= right:\n",
    "            buffer[buff_point] = lst[right_point]\n",
    "            buff_point += 1\n",
    "            right_point += 1\n",
    "\n",
    "        lst[left:right + 1] = buffer[left:right + 1]\n"
   ],
   "id": "771d7935740f280d",
   "outputs": [],
   "execution_count": 89
  },
  {
   "metadata": {
    "ExecuteTime": {
     "end_time": "2025-03-17T08:32:41.043193Z",
     "start_time": "2025-03-17T08:32:41.035435Z"
    }
   },
   "cell_type": "code",
   "source": [
    "my_list = [9, 8, 3, 7, 5, 6, 4, 1]\n",
    "merge_sort(my_list, 0, len(my_list) - 1)\n",
    "my_list"
   ],
   "id": "e33c26f7829faa2f",
   "outputs": [
    {
     "data": {
      "text/plain": [
       "[1, 3, 4, 5, 6, 7, 8, 9]"
      ]
     },
     "execution_count": 90,
     "metadata": {},
     "output_type": "execute_result"
    }
   ],
   "execution_count": 90
  },
  {
   "metadata": {
    "ExecuteTime": {
     "end_time": "2025-03-17T08:32:12.052054Z",
     "start_time": "2025-03-17T08:32:12.044219Z"
    }
   },
   "cell_type": "code",
   "source": [
    "def merge_sort(lst: list, left: int, right: int):\n",
    "    if left >= right:\n",
    "        return\n",
    "\n",
    "    center = (left + right) // 2\n",
    "    merge_sort(lst, left, center)\n",
    "    merge_sort(lst, center + 1, right)\n",
    "\n",
    "    # 병합 과정\n",
    "    buffer = lst[:]\n",
    "    left_point, right_point, buff_point = left, center + 1, left\n",
    "\n",
    "    while left_point <= center and right_point <= right:\n",
    "        if lst[left_point] <= lst[right_point]:\n",
    "            buffer[buff_point] = lst[left_point]\n",
    "            left_point += 1\n",
    "        else:\n",
    "            buffer[buff_point] = lst[right_point]\n",
    "            right_point += 1\n",
    "        buff_point += 1\n",
    "\n",
    "    # 남아있는 요소 복사\n",
    "    while left_point <= center:\n",
    "        buffer[buff_point] = lst[left_point]\n",
    "        left_point += 1\n",
    "        buff_point += 1\n",
    "\n",
    "    while right_point <= right:\n",
    "        buffer[buff_point] = lst[right_point]\n",
    "        right_point += 1\n",
    "        buff_point += 1\n",
    "\n",
    "    # 원본 리스트에 반영\n",
    "    lst[left:right + 1] = buffer[left:right + 1]\n",
    "\n",
    "\n",
    "# 테스트 실행\n",
    "arr = [9, 8, 3, 7, 5, 6, 4, 1]\n",
    "merge_sort(arr, 0, len(arr) - 1)\n",
    "print(\"정렬 완료:\", arr)\n"
   ],
   "id": "4d96d708e315c337",
   "outputs": [
    {
     "name": "stdout",
     "output_type": "stream",
     "text": [
      "정렬 완료: [1, 3, 4, 5, 6, 7, 8, 9]\n"
     ]
    }
   ],
   "execution_count": 88
  },
  {
   "metadata": {},
   "cell_type": "markdown",
   "source": "# 힙 정렬",
   "id": "4a15e886c85edd2d"
  },
  {
   "metadata": {
    "ExecuteTime": {
     "end_time": "2025-03-17T10:38:00.345155Z",
     "start_time": "2025-03-17T10:38:00.339475Z"
    }
   },
   "cell_type": "code",
   "source": "from collections import deque",
   "id": "daa6af925d46b821",
   "outputs": [],
   "execution_count": 94
  },
  {
   "metadata": {
    "ExecuteTime": {
     "end_time": "2025-03-17T11:39:24.945574Z",
     "start_time": "2025-03-17T11:39:24.939801Z"
    }
   },
   "cell_type": "code",
   "source": [
    "def heap_sort(lst: list):\n",
    "    def make_heap(lst, left, right):\n",
    "        temp = lst[left]\n",
    "\n",
    "        parent = left\n",
    "        while parent < (right + 1) // 2:\n",
    "            cl = parent * 2 + 1\n",
    "            cr = cl + 1\n",
    "            child = cr if cr >= right and lst[cr] > lst[cl] else cl\n",
    "            if temp >= lst[child]:  #부모가 더 크면 교환할 필요가 없다\n",
    "                break\n",
    "            lst[parent] = lst[child]  # 그렇지 않다면 교환\n",
    "            parent = child\n",
    "        lst[parent] = temp\n",
    "\n",
    "    n = len(lst)\n",
    "\n",
    "    for i in range((n - 1) // 2, -1, -1):\n",
    "        make_heap(lst, i, n - 1)\n",
    "\n",
    "    for i in range(n - 1, 0, -1):\n",
    "        lst[0], lst[i] = lst[i], lst[0]\n",
    "        make_heap(lst, 0, i - 1)\n"
   ],
   "id": "d129eee16c167488",
   "outputs": [],
   "execution_count": 115
  },
  {
   "metadata": {
    "ExecuteTime": {
     "end_time": "2025-03-17T11:39:25.288124Z",
     "start_time": "2025-03-17T11:39:25.221462Z"
    }
   },
   "cell_type": "code",
   "source": [
    "my_list = [1, 3, 5, 7, 9, 2, 4, 6, 8, 10]\n",
    "heap_sort(my_list)"
   ],
   "id": "877c5e46115046fb",
   "outputs": [
    {
     "ename": "IndexError",
     "evalue": "list index out of range",
     "output_type": "error",
     "traceback": [
      "\u001B[1;31m---------------------------------------------------------------------------\u001B[0m",
      "\u001B[1;31mIndexError\u001B[0m                                Traceback (most recent call last)",
      "Cell \u001B[1;32mIn[116], line 2\u001B[0m\n\u001B[0;32m      1\u001B[0m my_list \u001B[38;5;241m=\u001B[39m [\u001B[38;5;241m1\u001B[39m, \u001B[38;5;241m3\u001B[39m, \u001B[38;5;241m5\u001B[39m, \u001B[38;5;241m7\u001B[39m, \u001B[38;5;241m9\u001B[39m, \u001B[38;5;241m2\u001B[39m, \u001B[38;5;241m4\u001B[39m, \u001B[38;5;241m6\u001B[39m, \u001B[38;5;241m8\u001B[39m, \u001B[38;5;241m10\u001B[39m]\n\u001B[1;32m----> 2\u001B[0m heap_sort(my_list)\n",
      "Cell \u001B[1;32mIn[115], line 19\u001B[0m, in \u001B[0;36mheap_sort\u001B[1;34m(lst)\u001B[0m\n\u001B[0;32m     16\u001B[0m n \u001B[38;5;241m=\u001B[39m \u001B[38;5;28mlen\u001B[39m(lst)\n\u001B[0;32m     18\u001B[0m \u001B[38;5;28;01mfor\u001B[39;00m i \u001B[38;5;129;01min\u001B[39;00m \u001B[38;5;28mrange\u001B[39m((n \u001B[38;5;241m-\u001B[39m \u001B[38;5;241m1\u001B[39m) \u001B[38;5;241m/\u001B[39m\u001B[38;5;241m/\u001B[39m \u001B[38;5;241m2\u001B[39m, \u001B[38;5;241m-\u001B[39m\u001B[38;5;241m1\u001B[39m, \u001B[38;5;241m-\u001B[39m\u001B[38;5;241m1\u001B[39m):\n\u001B[1;32m---> 19\u001B[0m     make_heap(lst, i, n \u001B[38;5;241m-\u001B[39m \u001B[38;5;241m1\u001B[39m)\n\u001B[0;32m     21\u001B[0m \u001B[38;5;28;01mfor\u001B[39;00m i \u001B[38;5;129;01min\u001B[39;00m \u001B[38;5;28mrange\u001B[39m(n \u001B[38;5;241m-\u001B[39m \u001B[38;5;241m1\u001B[39m, \u001B[38;5;241m0\u001B[39m, \u001B[38;5;241m-\u001B[39m\u001B[38;5;241m1\u001B[39m):\n\u001B[0;32m     22\u001B[0m     lst[\u001B[38;5;241m0\u001B[39m], lst[i] \u001B[38;5;241m=\u001B[39m lst[i], lst[\u001B[38;5;241m0\u001B[39m]\n",
      "Cell \u001B[1;32mIn[115], line 9\u001B[0m, in \u001B[0;36mheap_sort.<locals>.make_heap\u001B[1;34m(lst, left, right)\u001B[0m\n\u001B[0;32m      7\u001B[0m cl \u001B[38;5;241m=\u001B[39m parent \u001B[38;5;241m*\u001B[39m \u001B[38;5;241m2\u001B[39m \u001B[38;5;241m+\u001B[39m \u001B[38;5;241m1\u001B[39m\n\u001B[0;32m      8\u001B[0m cr \u001B[38;5;241m=\u001B[39m cl \u001B[38;5;241m+\u001B[39m \u001B[38;5;241m1\u001B[39m\n\u001B[1;32m----> 9\u001B[0m child \u001B[38;5;241m=\u001B[39m cr \u001B[38;5;28;01mif\u001B[39;00m cr \u001B[38;5;241m>\u001B[39m\u001B[38;5;241m=\u001B[39m right \u001B[38;5;129;01mand\u001B[39;00m lst[cr] \u001B[38;5;241m>\u001B[39m lst[cl] \u001B[38;5;28;01melse\u001B[39;00m cl\n\u001B[0;32m     10\u001B[0m \u001B[38;5;28;01mif\u001B[39;00m temp \u001B[38;5;241m>\u001B[39m\u001B[38;5;241m=\u001B[39m lst[child]:  \u001B[38;5;66;03m#부모가 더 크면 교환할 필요가 없다\u001B[39;00m\n\u001B[0;32m     11\u001B[0m     \u001B[38;5;28;01mbreak\u001B[39;00m\n",
      "\u001B[1;31mIndexError\u001B[0m: list index out of range"
     ]
    }
   ],
   "execution_count": 116
  },
  {
   "metadata": {},
   "cell_type": "markdown",
   "source": "# 도수 정렬",
   "id": "dd8e9faef9e86639"
  },
  {
   "metadata": {
    "ExecuteTime": {
     "end_time": "2025-03-17T12:57:14.426178Z",
     "start_time": "2025-03-17T12:57:14.422178Z"
    }
   },
   "cell_type": "code",
   "source": [
    "def tsort(lst:list):\n",
    "    \n",
    "    n = len(lst)\n",
    "    b = [0] * (max(lst) + 1)\n",
    "    f = [0] * n\n",
    "    \n",
    "    for i in range(n):\n",
    "        b[lst[i]] += 1\n",
    "        \n",
    "    for i in range(1,len(b)):\n",
    "        b[i] += b[i-1]\n",
    "                \n",
    "    for i in range(n - 1, -1, -1):\n",
    "        b[lst[i]] -= 1\n",
    "        f[b[lst[i]]] = lst[i]\n",
    "    \n",
    "    lst[:] = f[:]"
   ],
   "id": "3102751f591a19c3",
   "outputs": [],
   "execution_count": 11
  },
  {
   "metadata": {
    "ExecuteTime": {
     "end_time": "2025-03-17T12:57:14.782497Z",
     "start_time": "2025-03-17T12:57:14.775299Z"
    }
   },
   "cell_type": "code",
   "source": [
    "my_list = [1, 3, 5, 7, 9, 2, 4, 6, 8, 10]\n",
    "tsort(my_list)\n",
    "my_list"
   ],
   "id": "f55b132d9f2c6d3a",
   "outputs": [
    {
     "data": {
      "text/plain": [
       "[1, 2, 3, 4, 5, 6, 7, 8, 9, 10]"
      ]
     },
     "execution_count": 12,
     "metadata": {},
     "output_type": "execute_result"
    }
   ],
   "execution_count": 12
  },
  {
   "metadata": {},
   "cell_type": "code",
   "outputs": [],
   "execution_count": null,
   "source": "",
   "id": "fe75cb07efe2e368"
  }
 ],
 "metadata": {
  "kernelspec": {
   "display_name": "Python 3",
   "language": "python",
   "name": "python3"
  },
  "language_info": {
   "codemirror_mode": {
    "name": "ipython",
    "version": 2
   },
   "file_extension": ".py",
   "mimetype": "text/x-python",
   "name": "python",
   "nbconvert_exporter": "python",
   "pygments_lexer": "ipython2",
   "version": "2.7.6"
  }
 },
 "nbformat": 4,
 "nbformat_minor": 5
}
