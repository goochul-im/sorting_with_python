{
 "cells": [
  {
   "metadata": {},
   "cell_type": "markdown",
   "source": "## 버블 정렬\n",
   "id": "f4a1fb609a97dbe4"
  },
  {
   "metadata": {
    "ExecuteTime": {
     "end_time": "2025-03-16T09:05:07.478250Z",
     "start_time": "2025-03-16T09:05:07.474166Z"
    }
   },
   "cell_type": "code",
   "source": [
    "def bubble_sort(lst: list):\n",
    "    length = len(lst)\n",
    "    for i in range(length - 1):\n",
    "        print(lst)\n",
    "        for j in range(i, length):\n",
    "            if lst[i] > lst[j]:\n",
    "                lst[i], lst[j] = lst[j], lst[i]"
   ],
   "id": "initial_id",
   "outputs": [],
   "execution_count": 7
  },
  {
   "metadata": {
    "ExecuteTime": {
     "end_time": "2025-03-16T09:05:08.033933Z",
     "start_time": "2025-03-16T09:05:08.026932Z"
    }
   },
   "cell_type": "code",
   "source": [
    "my_list = [10, 2, 7, 9, 15, 17, 5]\n",
    "bubble_sort(my_list)\n",
    "my_list"
   ],
   "id": "2a1633d56693e8e5",
   "outputs": [
    {
     "name": "stdout",
     "output_type": "stream",
     "text": [
      "[10, 2, 7, 9, 15, 17, 5]\n",
      "[2, 10, 7, 9, 15, 17, 5]\n",
      "[2, 5, 10, 9, 15, 17, 7]\n",
      "[2, 5, 7, 10, 15, 17, 9]\n",
      "[2, 5, 7, 9, 15, 17, 10]\n",
      "[2, 5, 7, 9, 10, 17, 15]\n"
     ]
    },
    {
     "data": {
      "text/plain": [
       "[2, 5, 7, 9, 10, 15, 17]"
      ]
     },
     "execution_count": 8,
     "metadata": {},
     "output_type": "execute_result"
    }
   ],
   "execution_count": 8
  },
  {
   "metadata": {},
   "cell_type": "markdown",
   "source": "### 버블 정렬의 개선 1",
   "id": "43967f653465f957"
  },
  {
   "metadata": {
    "ExecuteTime": {
     "end_time": "2025-03-16T09:06:35.701428Z",
     "start_time": "2025-03-16T09:06:35.697428Z"
    }
   },
   "cell_type": "code",
   "source": [
    "def bubble_sort_enhance(lst: list):\n",
    "    length = len(lst)\n",
    "    for i in range(length - 1):\n",
    "        print(lst)\n",
    "        exch = 0\n",
    "        for j in range(i, length):\n",
    "            if lst[i] > lst[j]:\n",
    "                lst[i], lst[j] = lst[j], lst[i]\n",
    "                exch += 1\n",
    "        if exch == 0:\n",
    "            break"
   ],
   "id": "1ce0e57273aceecb",
   "outputs": [],
   "execution_count": 9
  },
  {
   "metadata": {
    "ExecuteTime": {
     "end_time": "2025-03-16T09:07:03.991359Z",
     "start_time": "2025-03-16T09:07:03.986853Z"
    }
   },
   "cell_type": "code",
   "source": [
    "my_list = [6, 4, 3, 7, 1, 9, 8]\n",
    "bubble_sort_enhance(my_list)"
   ],
   "id": "e3af184f5e96420d",
   "outputs": [
    {
     "name": "stdout",
     "output_type": "stream",
     "text": [
      "[6, 4, 3, 7, 1, 9, 8]\n",
      "[1, 6, 4, 7, 3, 9, 8]\n",
      "[1, 3, 6, 7, 4, 9, 8]\n",
      "[1, 3, 4, 7, 6, 9, 8]\n",
      "[1, 3, 4, 6, 7, 9, 8]\n"
     ]
    }
   ],
   "execution_count": 10
  },
  {
   "metadata": {
    "ExecuteTime": {
     "end_time": "2025-03-16T09:07:12.905910Z",
     "start_time": "2025-03-16T09:07:12.902581Z"
    }
   },
   "cell_type": "code",
   "source": "bubble_sort(my_list)",
   "id": "d5497006eb9ed40c",
   "outputs": [
    {
     "name": "stdout",
     "output_type": "stream",
     "text": [
      "[1, 3, 4, 6, 7, 9, 8]\n",
      "[1, 3, 4, 6, 7, 9, 8]\n",
      "[1, 3, 4, 6, 7, 9, 8]\n",
      "[1, 3, 4, 6, 7, 9, 8]\n",
      "[1, 3, 4, 6, 7, 9, 8]\n",
      "[1, 3, 4, 6, 7, 9, 8]\n"
     ]
    }
   ],
   "execution_count": 11
  },
  {
   "metadata": {},
   "cell_type": "markdown",
   "source": "### 버블 정렬의 개선 2",
   "id": "78cd7305f5f2f024"
  },
  {
   "metadata": {
    "ExecuteTime": {
     "end_time": "2025-03-16T09:15:11.286571Z",
     "start_time": "2025-03-16T09:15:11.282221Z"
    }
   },
   "cell_type": "code",
   "source": [
    "def bubble_sort_enhance_2(lst: list):\n",
    "    n = len(lst)\n",
    "    k = 0\n",
    "    while k < n - 1:\n",
    "        last = n - 1\n",
    "        print(lst)\n",
    "        for j in range(n - 1, k, -1):\n",
    "            if lst[j - 1] > lst[j]:\n",
    "                lst[j - 1], lst[j] = lst[j], lst[j - 1]\n",
    "                last = j\n",
    "        k = last"
   ],
   "id": "b50d2a4ac38866c2",
   "outputs": [],
   "execution_count": 15
  },
  {
   "metadata": {
    "ExecuteTime": {
     "end_time": "2025-03-16T09:15:11.901153Z",
     "start_time": "2025-03-16T09:15:11.897222Z"
    }
   },
   "cell_type": "code",
   "source": [
    "my_list = [6, 4, 3, 7, 1, 9, 8]\n",
    "bubble_sort_enhance_2(my_list)"
   ],
   "id": "918458e1d56522bd",
   "outputs": [
    {
     "name": "stdout",
     "output_type": "stream",
     "text": [
      "[6, 4, 3, 7, 1, 9, 8]\n",
      "[1, 6, 4, 3, 7, 8, 9]\n",
      "[1, 3, 6, 4, 7, 8, 9]\n",
      "[1, 3, 4, 6, 7, 8, 9]\n"
     ]
    }
   ],
   "execution_count": 16
  },
  {
   "metadata": {},
   "cell_type": "markdown",
   "source": [
    "### 셰이커 정렬\n",
    "- [9,1,3,4,6,7,8] 과 같이 큰 원소가 앞쪽에 있어 계속해서 교환이 일어나는 경우에 유용"
   ],
   "id": "1b8a2623e76e37bc"
  },
  {
   "metadata": {
    "ExecuteTime": {
     "end_time": "2025-03-16T10:26:45.081377Z",
     "start_time": "2025-03-16T10:26:45.076377Z"
    }
   },
   "cell_type": "code",
   "source": [
    "def shaker_sort(lst: list):\n",
    "    left = 0\n",
    "    right = len(lst) - 1\n",
    "    last = right\n",
    "    while left < right:\n",
    "        print(lst)\n",
    "        for i in range(right, left, -1):\n",
    "            if lst[i] < lst[i-1]:\n",
    "                lst[i], lst[i-1] = lst[i-1], lst[i],\n",
    "                last = i\n",
    "            left = last\n",
    "            \n",
    "        for j in range(left, right):\n",
    "            if lst[j] > lst[j+1]:\n",
    "                lst[j], lst[j+1] = lst[j+1], lst[j],\n",
    "                last = j\n",
    "            right = last\n",
    "    "
   ],
   "id": "8d329257d64b444d",
   "outputs": [],
   "execution_count": 19
  },
  {
   "metadata": {
    "ExecuteTime": {
     "end_time": "2025-03-16T10:26:45.514232Z",
     "start_time": "2025-03-16T10:26:45.509231Z"
    }
   },
   "cell_type": "code",
   "source": [
    "my_list = [9,1,3,4,6,7,8]\n",
    "shaker_sort(my_list)"
   ],
   "id": "c59e58e002fe2692",
   "outputs": [
    {
     "name": "stdout",
     "output_type": "stream",
     "text": [
      "[9, 1, 3, 4, 6, 7, 8]\n",
      "[1, 3, 4, 6, 7, 8, 9]\n"
     ]
    }
   ],
   "execution_count": 20
  },
  {
   "metadata": {},
   "cell_type": "code",
   "outputs": [],
   "execution_count": null,
   "source": "",
   "id": "51bd1d4b7b7078fa"
  }
 ],
 "metadata": {
  "kernelspec": {
   "display_name": "Python 3",
   "language": "python",
   "name": "python3"
  },
  "language_info": {
   "codemirror_mode": {
    "name": "ipython",
    "version": 2
   },
   "file_extension": ".py",
   "mimetype": "text/x-python",
   "name": "python",
   "nbconvert_exporter": "python",
   "pygments_lexer": "ipython2",
   "version": "2.7.6"
  }
 },
 "nbformat": 4,
 "nbformat_minor": 5
}
